{
  "cells": [
    {
      "cell_type": "markdown",
      "metadata": {
        "id": "Su2pvAl-Ek3P"
      },
      "source": [
        "Airbnb price prediction aims to estimate the optimal price for a rental listing based on various factors, helping hosts maximize their earnings while remaining competitive. This involves analyzing data like location, property type, amenities, and market trends to predict the most suitable price point."
      ]
    },
    {
      "cell_type": "code",
      "execution_count": 2,
      "metadata": {
        "id": "Mi6mEJuqlIns"
      },
      "outputs": [],
      "source": [
        "import pandas as pd\n",
        "import numpy as np\n",
        "import matplotlib.pyplot as plt\n",
        "import seaborn as sns\n",
        "import warnings\n",
        "from sklearn.model_selection import train_test_split\n",
        "from sklearn.preprocessing import LabelEncoder, StandardScaler\n",
        "from sklearn.metrics import mean_absolute_error, mean_squared_error\n",
        "import xgboost as xgb\n",
        "warnings.filterwarnings('ignore')\n",
        "import joblib"
      ]
    },
    {
      "cell_type": "code",
      "execution_count": 5,
      "metadata": {
        "id": "kpzLVYtOxOa1"
      },
      "outputs": [],
      "source": [
        "!unzip -q /content/AirBnbDataset.zip -d /content/"
      ]
    },
    {
      "cell_type": "code",
      "execution_count": 6,
      "metadata": {
        "id": "sLjcAKbnlM7L"
      },
      "outputs": [],
      "source": [
        "import pandas as pd\n",
        "\n",
        "# List of (file_path, city_name) tuples\n",
        "files_info = [\n",
        "    ('/content/AirBnbDataset/listings_Paris.csv', 'Paris'),\n",
        "    ('/content/AirBnbDataset/listings_Rome.csv', 'Rome'),\n",
        "    ('/content/AirBnbDataset/listings_Amsterdam.csv', 'Amsterdam'),\n",
        "    ('/content/AirBnbDataset/listings_Berlin.csv', 'Berlin'),\n",
        "    ('/content/AirBnbDataset/listings_Prague.csv', 'Prague'),\n",
        "    ('/content/AirBnbDataset/listings_Barcelona.csv', 'Barcelona'),\n",
        "    ('/content/AirBnbDataset/listings_Budapest.csv', 'Budapest'),\n",
        "    ('/content/AirBnbDataset/listings_Vienna.csv', 'Vienna'),\n",
        "    ('/content/AirBnbDataset/listings_Athens.csv', 'Athens'),\n",
        "    ('/content/AirBnbDataset/listings_Istanbul.csv','Istanbul'),\n",
        "    ('/content/AirBnbDataset/listings_Dublin.csv','Dublin'),\n",
        "    ('/content/AirBnbDataset/listings_Oslo.csv','Oslo'),\n",
        "    ('/content/AirBnbDataset/listings_Stockholm.csv','Stockholm'),\n",
        "    ('/content/AirBnbDataset/listings_copenhagen.csv','Copenhagen'),\n",
        "    ('/content/AirBnbDataset/listings_Brussels.csv','Brussels'),\n",
        "]\n",
        "\n",
        "# Read and append with city column\n",
        "df_list = []\n",
        "\n",
        "for file_path, city in files_info:\n",
        "    df = pd.read_csv(file_path)\n",
        "    df['city'] = city  # Add city name\n",
        "    df_list.append(df)\n",
        "\n",
        "# Combine all\n",
        "df = pd.concat(df_list, ignore_index=True)\n"
      ]
    },
    {
      "cell_type": "code",
      "execution_count": 7,
      "metadata": {
        "colab": {
          "base_uri": "https://localhost:8080/"
        },
        "id": "qeya2u0Hm5PY",
        "outputId": "afba75c1-c267-47be-b715-bc9742ded2fa"
      },
      "outputs": [
        {
          "output_type": "stream",
          "name": "stdout",
          "text": [
            "<class 'pandas.core.frame.DataFrame'>\n",
            "RangeIndex: 296386 entries, 0 to 296385\n",
            "Data columns (total 19 columns):\n",
            " #   Column                          Non-Null Count   Dtype  \n",
            "---  ------                          --------------   -----  \n",
            " 0   id                              296386 non-null  int64  \n",
            " 1   name                            296386 non-null  object \n",
            " 2   host_id                         296386 non-null  int64  \n",
            " 3   host_name                       295298 non-null  object \n",
            " 4   neighbourhood_group             33114 non-null   object \n",
            " 5   neighbourhood                   296386 non-null  object \n",
            " 6   latitude                        296386 non-null  float64\n",
            " 7   longitude                       296386 non-null  float64\n",
            " 8   room_type                       296386 non-null  object \n",
            " 9   price                           223949 non-null  float64\n",
            " 10  minimum_nights                  296386 non-null  int64  \n",
            " 11  number_of_reviews               296386 non-null  int64  \n",
            " 12  last_review                     234391 non-null  object \n",
            " 13  reviews_per_month               234391 non-null  float64\n",
            " 14  calculated_host_listings_count  296386 non-null  int64  \n",
            " 15  availability_365                296386 non-null  int64  \n",
            " 16  number_of_reviews_ltm           296386 non-null  int64  \n",
            " 17  license                         170201 non-null  object \n",
            " 18  city                            296386 non-null  object \n",
            "dtypes: float64(4), int64(7), object(8)\n",
            "memory usage: 43.0+ MB\n"
          ]
        }
      ],
      "source": [
        "df.info()"
      ]
    },
    {
      "cell_type": "code",
      "source": [
        "df.describe()"
      ],
      "metadata": {
        "colab": {
          "base_uri": "https://localhost:8080/",
          "height": 320
        },
        "id": "qATgzLqb8TWD",
        "outputId": "129418f4-cf55-42c2-e6c7-2fcf01e94d46"
      },
      "execution_count": 8,
      "outputs": [
        {
          "output_type": "execute_result",
          "data": {
            "text/plain": [
              "                 id       host_id       latitude      longitude         price  \\\n",
              "count  2.963860e+05  2.963860e+05  296386.000000  296386.000000  2.239490e+05   \n",
              "mean   6.609559e+17  2.187028e+08      47.707725      10.950083  2.960313e+03   \n",
              "std    5.402630e+17  2.148626e+08       5.663597       9.091535  5.052361e+04   \n",
              "min    2.737000e+03  2.750000e+02      37.949625      -6.527050  5.000000e+00   \n",
              "25%    3.654655e+07  2.603298e+07      41.886467       2.351400  1.000000e+02   \n",
              "50%    8.381684e+17  1.299662e+08      48.851835      12.465040  2.040000e+02   \n",
              "75%    1.145717e+18  4.279988e+08      50.828558      16.336507  1.148000e+03   \n",
              "max    1.451598e+18  7.034201e+08      60.041560      29.910890  1.271319e+07   \n",
              "\n",
              "       minimum_nights  number_of_reviews  reviews_per_month  \\\n",
              "count   296386.000000      296386.000000      234391.000000   \n",
              "mean        22.805892          38.128694           1.329055   \n",
              "std         67.621855          82.641578           1.702884   \n",
              "min          1.000000           0.000000           0.010000   \n",
              "25%          1.000000           1.000000           0.230000   \n",
              "50%          2.000000           8.000000           0.710000   \n",
              "75%          5.000000          35.000000           1.880000   \n",
              "max       1125.000000        4792.000000          99.010000   \n",
              "\n",
              "       calculated_host_listings_count  availability_365  number_of_reviews_ltm  \n",
              "count                   296386.000000     296386.000000          296386.000000  \n",
              "mean                        20.534755        158.677124               9.825471  \n",
              "std                         72.581160        134.462118              18.078238  \n",
              "min                          1.000000          0.000000               0.000000  \n",
              "25%                          1.000000         10.000000               0.000000  \n",
              "50%                          1.000000        150.000000               2.000000  \n",
              "75%                          7.000000        284.000000              12.000000  \n",
              "max                        835.000000        365.000000             848.000000  "
            ],
            "text/html": [
              "\n",
              "  <div id=\"df-274954bc-b734-4124-bceb-556ff3c2db0c\" class=\"colab-df-container\">\n",
              "    <div>\n",
              "<style scoped>\n",
              "    .dataframe tbody tr th:only-of-type {\n",
              "        vertical-align: middle;\n",
              "    }\n",
              "\n",
              "    .dataframe tbody tr th {\n",
              "        vertical-align: top;\n",
              "    }\n",
              "\n",
              "    .dataframe thead th {\n",
              "        text-align: right;\n",
              "    }\n",
              "</style>\n",
              "<table border=\"1\" class=\"dataframe\">\n",
              "  <thead>\n",
              "    <tr style=\"text-align: right;\">\n",
              "      <th></th>\n",
              "      <th>id</th>\n",
              "      <th>host_id</th>\n",
              "      <th>latitude</th>\n",
              "      <th>longitude</th>\n",
              "      <th>price</th>\n",
              "      <th>minimum_nights</th>\n",
              "      <th>number_of_reviews</th>\n",
              "      <th>reviews_per_month</th>\n",
              "      <th>calculated_host_listings_count</th>\n",
              "      <th>availability_365</th>\n",
              "      <th>number_of_reviews_ltm</th>\n",
              "    </tr>\n",
              "  </thead>\n",
              "  <tbody>\n",
              "    <tr>\n",
              "      <th>count</th>\n",
              "      <td>2.963860e+05</td>\n",
              "      <td>2.963860e+05</td>\n",
              "      <td>296386.000000</td>\n",
              "      <td>296386.000000</td>\n",
              "      <td>2.239490e+05</td>\n",
              "      <td>296386.000000</td>\n",
              "      <td>296386.000000</td>\n",
              "      <td>234391.000000</td>\n",
              "      <td>296386.000000</td>\n",
              "      <td>296386.000000</td>\n",
              "      <td>296386.000000</td>\n",
              "    </tr>\n",
              "    <tr>\n",
              "      <th>mean</th>\n",
              "      <td>6.609559e+17</td>\n",
              "      <td>2.187028e+08</td>\n",
              "      <td>47.707725</td>\n",
              "      <td>10.950083</td>\n",
              "      <td>2.960313e+03</td>\n",
              "      <td>22.805892</td>\n",
              "      <td>38.128694</td>\n",
              "      <td>1.329055</td>\n",
              "      <td>20.534755</td>\n",
              "      <td>158.677124</td>\n",
              "      <td>9.825471</td>\n",
              "    </tr>\n",
              "    <tr>\n",
              "      <th>std</th>\n",
              "      <td>5.402630e+17</td>\n",
              "      <td>2.148626e+08</td>\n",
              "      <td>5.663597</td>\n",
              "      <td>9.091535</td>\n",
              "      <td>5.052361e+04</td>\n",
              "      <td>67.621855</td>\n",
              "      <td>82.641578</td>\n",
              "      <td>1.702884</td>\n",
              "      <td>72.581160</td>\n",
              "      <td>134.462118</td>\n",
              "      <td>18.078238</td>\n",
              "    </tr>\n",
              "    <tr>\n",
              "      <th>min</th>\n",
              "      <td>2.737000e+03</td>\n",
              "      <td>2.750000e+02</td>\n",
              "      <td>37.949625</td>\n",
              "      <td>-6.527050</td>\n",
              "      <td>5.000000e+00</td>\n",
              "      <td>1.000000</td>\n",
              "      <td>0.000000</td>\n",
              "      <td>0.010000</td>\n",
              "      <td>1.000000</td>\n",
              "      <td>0.000000</td>\n",
              "      <td>0.000000</td>\n",
              "    </tr>\n",
              "    <tr>\n",
              "      <th>25%</th>\n",
              "      <td>3.654655e+07</td>\n",
              "      <td>2.603298e+07</td>\n",
              "      <td>41.886467</td>\n",
              "      <td>2.351400</td>\n",
              "      <td>1.000000e+02</td>\n",
              "      <td>1.000000</td>\n",
              "      <td>1.000000</td>\n",
              "      <td>0.230000</td>\n",
              "      <td>1.000000</td>\n",
              "      <td>10.000000</td>\n",
              "      <td>0.000000</td>\n",
              "    </tr>\n",
              "    <tr>\n",
              "      <th>50%</th>\n",
              "      <td>8.381684e+17</td>\n",
              "      <td>1.299662e+08</td>\n",
              "      <td>48.851835</td>\n",
              "      <td>12.465040</td>\n",
              "      <td>2.040000e+02</td>\n",
              "      <td>2.000000</td>\n",
              "      <td>8.000000</td>\n",
              "      <td>0.710000</td>\n",
              "      <td>1.000000</td>\n",
              "      <td>150.000000</td>\n",
              "      <td>2.000000</td>\n",
              "    </tr>\n",
              "    <tr>\n",
              "      <th>75%</th>\n",
              "      <td>1.145717e+18</td>\n",
              "      <td>4.279988e+08</td>\n",
              "      <td>50.828558</td>\n",
              "      <td>16.336507</td>\n",
              "      <td>1.148000e+03</td>\n",
              "      <td>5.000000</td>\n",
              "      <td>35.000000</td>\n",
              "      <td>1.880000</td>\n",
              "      <td>7.000000</td>\n",
              "      <td>284.000000</td>\n",
              "      <td>12.000000</td>\n",
              "    </tr>\n",
              "    <tr>\n",
              "      <th>max</th>\n",
              "      <td>1.451598e+18</td>\n",
              "      <td>7.034201e+08</td>\n",
              "      <td>60.041560</td>\n",
              "      <td>29.910890</td>\n",
              "      <td>1.271319e+07</td>\n",
              "      <td>1125.000000</td>\n",
              "      <td>4792.000000</td>\n",
              "      <td>99.010000</td>\n",
              "      <td>835.000000</td>\n",
              "      <td>365.000000</td>\n",
              "      <td>848.000000</td>\n",
              "    </tr>\n",
              "  </tbody>\n",
              "</table>\n",
              "</div>\n",
              "    <div class=\"colab-df-buttons\">\n",
              "\n",
              "  <div class=\"colab-df-container\">\n",
              "    <button class=\"colab-df-convert\" onclick=\"convertToInteractive('df-274954bc-b734-4124-bceb-556ff3c2db0c')\"\n",
              "            title=\"Convert this dataframe to an interactive table.\"\n",
              "            style=\"display:none;\">\n",
              "\n",
              "  <svg xmlns=\"http://www.w3.org/2000/svg\" height=\"24px\" viewBox=\"0 -960 960 960\">\n",
              "    <path d=\"M120-120v-720h720v720H120Zm60-500h600v-160H180v160Zm220 220h160v-160H400v160Zm0 220h160v-160H400v160ZM180-400h160v-160H180v160Zm440 0h160v-160H620v160ZM180-180h160v-160H180v160Zm440 0h160v-160H620v160Z\"/>\n",
              "  </svg>\n",
              "    </button>\n",
              "\n",
              "  <style>\n",
              "    .colab-df-container {\n",
              "      display:flex;\n",
              "      gap: 12px;\n",
              "    }\n",
              "\n",
              "    .colab-df-convert {\n",
              "      background-color: #E8F0FE;\n",
              "      border: none;\n",
              "      border-radius: 50%;\n",
              "      cursor: pointer;\n",
              "      display: none;\n",
              "      fill: #1967D2;\n",
              "      height: 32px;\n",
              "      padding: 0 0 0 0;\n",
              "      width: 32px;\n",
              "    }\n",
              "\n",
              "    .colab-df-convert:hover {\n",
              "      background-color: #E2EBFA;\n",
              "      box-shadow: 0px 1px 2px rgba(60, 64, 67, 0.3), 0px 1px 3px 1px rgba(60, 64, 67, 0.15);\n",
              "      fill: #174EA6;\n",
              "    }\n",
              "\n",
              "    .colab-df-buttons div {\n",
              "      margin-bottom: 4px;\n",
              "    }\n",
              "\n",
              "    [theme=dark] .colab-df-convert {\n",
              "      background-color: #3B4455;\n",
              "      fill: #D2E3FC;\n",
              "    }\n",
              "\n",
              "    [theme=dark] .colab-df-convert:hover {\n",
              "      background-color: #434B5C;\n",
              "      box-shadow: 0px 1px 3px 1px rgba(0, 0, 0, 0.15);\n",
              "      filter: drop-shadow(0px 1px 2px rgba(0, 0, 0, 0.3));\n",
              "      fill: #FFFFFF;\n",
              "    }\n",
              "  </style>\n",
              "\n",
              "    <script>\n",
              "      const buttonEl =\n",
              "        document.querySelector('#df-274954bc-b734-4124-bceb-556ff3c2db0c button.colab-df-convert');\n",
              "      buttonEl.style.display =\n",
              "        google.colab.kernel.accessAllowed ? 'block' : 'none';\n",
              "\n",
              "      async function convertToInteractive(key) {\n",
              "        const element = document.querySelector('#df-274954bc-b734-4124-bceb-556ff3c2db0c');\n",
              "        const dataTable =\n",
              "          await google.colab.kernel.invokeFunction('convertToInteractive',\n",
              "                                                    [key], {});\n",
              "        if (!dataTable) return;\n",
              "\n",
              "        const docLinkHtml = 'Like what you see? Visit the ' +\n",
              "          '<a target=\"_blank\" href=https://colab.research.google.com/notebooks/data_table.ipynb>data table notebook</a>'\n",
              "          + ' to learn more about interactive tables.';\n",
              "        element.innerHTML = '';\n",
              "        dataTable['output_type'] = 'display_data';\n",
              "        await google.colab.output.renderOutput(dataTable, element);\n",
              "        const docLink = document.createElement('div');\n",
              "        docLink.innerHTML = docLinkHtml;\n",
              "        element.appendChild(docLink);\n",
              "      }\n",
              "    </script>\n",
              "  </div>\n",
              "\n",
              "\n",
              "    <div id=\"df-34a9d081-71aa-4e5c-a48b-8c0599aacdba\">\n",
              "      <button class=\"colab-df-quickchart\" onclick=\"quickchart('df-34a9d081-71aa-4e5c-a48b-8c0599aacdba')\"\n",
              "                title=\"Suggest charts\"\n",
              "                style=\"display:none;\">\n",
              "\n",
              "<svg xmlns=\"http://www.w3.org/2000/svg\" height=\"24px\"viewBox=\"0 0 24 24\"\n",
              "     width=\"24px\">\n",
              "    <g>\n",
              "        <path d=\"M19 3H5c-1.1 0-2 .9-2 2v14c0 1.1.9 2 2 2h14c1.1 0 2-.9 2-2V5c0-1.1-.9-2-2-2zM9 17H7v-7h2v7zm4 0h-2V7h2v10zm4 0h-2v-4h2v4z\"/>\n",
              "    </g>\n",
              "</svg>\n",
              "      </button>\n",
              "\n",
              "<style>\n",
              "  .colab-df-quickchart {\n",
              "      --bg-color: #E8F0FE;\n",
              "      --fill-color: #1967D2;\n",
              "      --hover-bg-color: #E2EBFA;\n",
              "      --hover-fill-color: #174EA6;\n",
              "      --disabled-fill-color: #AAA;\n",
              "      --disabled-bg-color: #DDD;\n",
              "  }\n",
              "\n",
              "  [theme=dark] .colab-df-quickchart {\n",
              "      --bg-color: #3B4455;\n",
              "      --fill-color: #D2E3FC;\n",
              "      --hover-bg-color: #434B5C;\n",
              "      --hover-fill-color: #FFFFFF;\n",
              "      --disabled-bg-color: #3B4455;\n",
              "      --disabled-fill-color: #666;\n",
              "  }\n",
              "\n",
              "  .colab-df-quickchart {\n",
              "    background-color: var(--bg-color);\n",
              "    border: none;\n",
              "    border-radius: 50%;\n",
              "    cursor: pointer;\n",
              "    display: none;\n",
              "    fill: var(--fill-color);\n",
              "    height: 32px;\n",
              "    padding: 0;\n",
              "    width: 32px;\n",
              "  }\n",
              "\n",
              "  .colab-df-quickchart:hover {\n",
              "    background-color: var(--hover-bg-color);\n",
              "    box-shadow: 0 1px 2px rgba(60, 64, 67, 0.3), 0 1px 3px 1px rgba(60, 64, 67, 0.15);\n",
              "    fill: var(--button-hover-fill-color);\n",
              "  }\n",
              "\n",
              "  .colab-df-quickchart-complete:disabled,\n",
              "  .colab-df-quickchart-complete:disabled:hover {\n",
              "    background-color: var(--disabled-bg-color);\n",
              "    fill: var(--disabled-fill-color);\n",
              "    box-shadow: none;\n",
              "  }\n",
              "\n",
              "  .colab-df-spinner {\n",
              "    border: 2px solid var(--fill-color);\n",
              "    border-color: transparent;\n",
              "    border-bottom-color: var(--fill-color);\n",
              "    animation:\n",
              "      spin 1s steps(1) infinite;\n",
              "  }\n",
              "\n",
              "  @keyframes spin {\n",
              "    0% {\n",
              "      border-color: transparent;\n",
              "      border-bottom-color: var(--fill-color);\n",
              "      border-left-color: var(--fill-color);\n",
              "    }\n",
              "    20% {\n",
              "      border-color: transparent;\n",
              "      border-left-color: var(--fill-color);\n",
              "      border-top-color: var(--fill-color);\n",
              "    }\n",
              "    30% {\n",
              "      border-color: transparent;\n",
              "      border-left-color: var(--fill-color);\n",
              "      border-top-color: var(--fill-color);\n",
              "      border-right-color: var(--fill-color);\n",
              "    }\n",
              "    40% {\n",
              "      border-color: transparent;\n",
              "      border-right-color: var(--fill-color);\n",
              "      border-top-color: var(--fill-color);\n",
              "    }\n",
              "    60% {\n",
              "      border-color: transparent;\n",
              "      border-right-color: var(--fill-color);\n",
              "    }\n",
              "    80% {\n",
              "      border-color: transparent;\n",
              "      border-right-color: var(--fill-color);\n",
              "      border-bottom-color: var(--fill-color);\n",
              "    }\n",
              "    90% {\n",
              "      border-color: transparent;\n",
              "      border-bottom-color: var(--fill-color);\n",
              "    }\n",
              "  }\n",
              "</style>\n",
              "\n",
              "      <script>\n",
              "        async function quickchart(key) {\n",
              "          const quickchartButtonEl =\n",
              "            document.querySelector('#' + key + ' button');\n",
              "          quickchartButtonEl.disabled = true;  // To prevent multiple clicks.\n",
              "          quickchartButtonEl.classList.add('colab-df-spinner');\n",
              "          try {\n",
              "            const charts = await google.colab.kernel.invokeFunction(\n",
              "                'suggestCharts', [key], {});\n",
              "          } catch (error) {\n",
              "            console.error('Error during call to suggestCharts:', error);\n",
              "          }\n",
              "          quickchartButtonEl.classList.remove('colab-df-spinner');\n",
              "          quickchartButtonEl.classList.add('colab-df-quickchart-complete');\n",
              "        }\n",
              "        (() => {\n",
              "          let quickchartButtonEl =\n",
              "            document.querySelector('#df-34a9d081-71aa-4e5c-a48b-8c0599aacdba button');\n",
              "          quickchartButtonEl.style.display =\n",
              "            google.colab.kernel.accessAllowed ? 'block' : 'none';\n",
              "        })();\n",
              "      </script>\n",
              "    </div>\n",
              "\n",
              "    </div>\n",
              "  </div>\n"
            ],
            "application/vnd.google.colaboratory.intrinsic+json": {
              "type": "dataframe",
              "summary": "{\n  \"name\": \"df\",\n  \"rows\": 8,\n  \"fields\": [\n    {\n      \"column\": \"id\",\n      \"properties\": {\n        \"dtype\": \"number\",\n        \"std\": 5.559677043867496e+17,\n        \"min\": 2737.0,\n        \"max\": 1.451597944657964e+18,\n        \"num_unique_values\": 8,\n        \"samples\": [\n          6.609559323312239e+17,\n          8.38168427724054e+17,\n          296386.0\n        ],\n        \"semantic_type\": \"\",\n        \"description\": \"\"\n      }\n    },\n    {\n      \"column\": \"host_id\",\n      \"properties\": {\n        \"dtype\": \"number\",\n        \"std\": 244715011.9312177,\n        \"min\": 275.0,\n        \"max\": 703420131.0,\n        \"num_unique_values\": 8,\n        \"samples\": [\n          218702837.49596134,\n          129966189.5,\n          296386.0\n        ],\n        \"semantic_type\": \"\",\n        \"description\": \"\"\n      }\n    },\n    {\n      \"column\": \"latitude\",\n      \"properties\": {\n        \"dtype\": \"number\",\n        \"std\": 104773.48129762072,\n        \"min\": 5.66359672185903,\n        \"max\": 296386.0,\n        \"num_unique_values\": 8,\n        \"samples\": [\n          47.70772471072863,\n          48.85183523431927,\n          296386.0\n        ],\n        \"semantic_type\": \"\",\n        \"description\": \"\"\n      }\n    },\n    {\n      \"column\": \"longitude\",\n      \"properties\": {\n        \"dtype\": \"number\",\n        \"std\": 104784.5089730839,\n        \"min\": -6.5270503,\n        \"max\": 296386.0,\n        \"num_unique_values\": 8,\n        \"samples\": [\n          10.950082751626853,\n          12.46504,\n          296386.0\n        ],\n        \"semantic_type\": \"\",\n        \"description\": \"\"\n      }\n    },\n    {\n      \"column\": \"price\",\n      \"properties\": {\n        \"dtype\": \"number\",\n        \"std\": 4481368.546135663,\n        \"min\": 5.0,\n        \"max\": 12713190.0,\n        \"num_unique_values\": 8,\n        \"samples\": [\n          2960.312772104363,\n          204.0,\n          223949.0\n        ],\n        \"semantic_type\": \"\",\n        \"description\": \"\"\n      }\n    },\n    {\n      \"column\": \"minimum_nights\",\n      \"properties\": {\n        \"dtype\": \"number\",\n        \"std\": 104727.1529171213,\n        \"min\": 1.0,\n        \"max\": 296386.0,\n        \"num_unique_values\": 7,\n        \"samples\": [\n          296386.0,\n          22.805891641305596,\n          5.0\n        ],\n        \"semantic_type\": \"\",\n        \"description\": \"\"\n      }\n    },\n    {\n      \"column\": \"number_of_reviews\",\n      \"properties\": {\n        \"dtype\": \"number\",\n        \"std\": 104551.2182644566,\n        \"min\": 0.0,\n        \"max\": 296386.0,\n        \"num_unique_values\": 8,\n        \"samples\": [\n          38.12869366299353,\n          8.0,\n          296386.0\n        ],\n        \"semantic_type\": \"\",\n        \"description\": \"\"\n      }\n    },\n    {\n      \"column\": \"reviews_per_month\",\n      \"properties\": {\n        \"dtype\": \"number\",\n        \"std\": 82864.4430451001,\n        \"min\": 0.01,\n        \"max\": 234391.0,\n        \"num_unique_values\": 8,\n        \"samples\": [\n          1.3290547845267098,\n          0.71,\n          234391.0\n        ],\n        \"semantic_type\": \"\",\n        \"description\": \"\"\n      }\n    },\n    {\n      \"column\": \"calculated_host_listings_count\",\n      \"properties\": {\n        \"dtype\": \"number\",\n        \"std\": 104741.2868688332,\n        \"min\": 1.0,\n        \"max\": 296386.0,\n        \"num_unique_values\": 6,\n        \"samples\": [\n          296386.0,\n          20.534755352816934,\n          835.0\n        ],\n        \"semantic_type\": \"\",\n        \"description\": \"\"\n      }\n    },\n    {\n      \"column\": \"availability_365\",\n      \"properties\": {\n        \"dtype\": \"number\",\n        \"std\": 104732.6812220908,\n        \"min\": 0.0,\n        \"max\": 296386.0,\n        \"num_unique_values\": 8,\n        \"samples\": [\n          158.67712375078446,\n          150.0,\n          296386.0\n        ],\n        \"semantic_type\": \"\",\n        \"description\": \"\"\n      }\n    },\n    {\n      \"column\": \"number_of_reviews_ltm\",\n      \"properties\": {\n        \"dtype\": \"number\",\n        \"std\": 104743.74192394895,\n        \"min\": 0.0,\n        \"max\": 296386.0,\n        \"num_unique_values\": 7,\n        \"samples\": [\n          296386.0,\n          9.825470838703582,\n          12.0\n        ],\n        \"semantic_type\": \"\",\n        \"description\": \"\"\n      }\n    }\n  ]\n}"
            }
          },
          "metadata": {},
          "execution_count": 8
        }
      ]
    },
    {
      "cell_type": "code",
      "source": [
        "# Statistical Testing Libraries\n",
        "from scipy import stats\n",
        "from scipy.stats import (\n",
        "    chi2_contingency, shapiro, anderson, jarque_bera,\n",
        "    f_oneway, kruskal, mannwhitneyu,\n",
        "    pearsonr, spearmanr, kendalltau,\n",
        "    ttest_ind, ttest_rel, wilcoxon\n",
        ")\n",
        "import warnings\n",
        "warnings.filterwarnings('ignore')\n",
        "\n",
        "def interpret_pvalue(p_value, test_name, alpha=0.05):\n",
        "    \"\"\"Helper function to interpret hypothesis test results\"\"\"\n",
        "    if p_value < alpha:\n",
        "        return f\"✅ {test_name}: SIGNIFICANT (p={p_value:.4f} < {alpha})\"\n",
        "    else:\n",
        "        return f\"❌ {test_name}: NOT SIGNIFICANT (p={p_value:.4f} ≥ {alpha})\"\n",
        "\n",
        "print(\"📊 Statistical testing environment ready!\")\n"
      ],
      "metadata": {
        "colab": {
          "base_uri": "https://localhost:8080/"
        },
        "id": "vkrM82h28VND",
        "outputId": "7f0b7ccc-800e-454e-b013-0e71cc8dd82d"
      },
      "execution_count": 9,
      "outputs": [
        {
          "output_type": "stream",
          "name": "stdout",
          "text": [
            "📊 Statistical testing environment ready!\n"
          ]
        }
      ]
    },
    {
      "cell_type": "code",
      "execution_count": 10,
      "metadata": {
        "colab": {
          "base_uri": "https://localhost:8080/",
          "height": 417
        },
        "id": "vOzYJPmmy8WG",
        "outputId": "6ef77fba-8316-46db-eca4-5836afb160d0"
      },
      "outputs": [
        {
          "output_type": "execute_result",
          "data": {
            "text/plain": [
              "     id                                             name  host_id   host_name  \\\n",
              "0  3109                                     zen and calm     3631        Anne   \n",
              "1  5396     Your perfect Paris studio on Île Saint-Louis     7903      Borzou   \n",
              "2  7397                 MARAIS - 2ROOMS APT - 2/4 PEOPLE     2626      Franck   \n",
              "3  7964                     Sunny apartment with balcony    22155       Anaïs   \n",
              "4  9359  Cozy, Central Paris: WALK or VELIB EVERYWHERE !    28422  Bernadette   \n",
              "\n",
              "  neighbourhood_group   neighbourhood  latitude  longitude        room_type  \\\n",
              "0                 NaN    Observatoire  48.83191    2.31870  Entire home/apt   \n",
              "1                 NaN  Hôtel-de-Ville  48.85247    2.35835  Entire home/apt   \n",
              "2                 NaN  Hôtel-de-Ville  48.85909    2.35315  Entire home/apt   \n",
              "3                 NaN           Opéra  48.87417    2.34245  Entire home/apt   \n",
              "4                 NaN          Louvre  48.86006    2.34863  Entire home/apt   \n",
              "\n",
              "   price  minimum_nights  number_of_reviews last_review  reviews_per_month  \\\n",
              "0  135.0               2                  7  2025-06-03               0.08   \n",
              "1  114.0               1                452  2025-06-05               2.32   \n",
              "2  149.0              10                380  2025-06-03               2.20   \n",
              "3    NaN               7                  5  2015-09-14               0.03   \n",
              "4   75.0             180                  0         NaN                NaN   \n",
              "\n",
              "   calculated_host_listings_count  availability_365  number_of_reviews_ltm  \\\n",
              "0                               1               355                      3   \n",
              "1                               1                69                     48   \n",
              "2                               1               197                     25   \n",
              "3                               1                 0                      0   \n",
              "4                               1               358                      0   \n",
              "\n",
              "                                             license   city  \n",
              "0                                      7511409139079  Paris  \n",
              "1                                      7510402838018  Paris  \n",
              "2                                      7510400829623  Paris  \n",
              "3                                      7510903576564  Paris  \n",
              "4  Available with a mobility lease only (\"bail mo...  Paris  "
            ],
            "text/html": [
              "\n",
              "  <div id=\"df-29ad496c-e05c-4488-9989-4a1cedf254f3\" class=\"colab-df-container\">\n",
              "    <div>\n",
              "<style scoped>\n",
              "    .dataframe tbody tr th:only-of-type {\n",
              "        vertical-align: middle;\n",
              "    }\n",
              "\n",
              "    .dataframe tbody tr th {\n",
              "        vertical-align: top;\n",
              "    }\n",
              "\n",
              "    .dataframe thead th {\n",
              "        text-align: right;\n",
              "    }\n",
              "</style>\n",
              "<table border=\"1\" class=\"dataframe\">\n",
              "  <thead>\n",
              "    <tr style=\"text-align: right;\">\n",
              "      <th></th>\n",
              "      <th>id</th>\n",
              "      <th>name</th>\n",
              "      <th>host_id</th>\n",
              "      <th>host_name</th>\n",
              "      <th>neighbourhood_group</th>\n",
              "      <th>neighbourhood</th>\n",
              "      <th>latitude</th>\n",
              "      <th>longitude</th>\n",
              "      <th>room_type</th>\n",
              "      <th>price</th>\n",
              "      <th>minimum_nights</th>\n",
              "      <th>number_of_reviews</th>\n",
              "      <th>last_review</th>\n",
              "      <th>reviews_per_month</th>\n",
              "      <th>calculated_host_listings_count</th>\n",
              "      <th>availability_365</th>\n",
              "      <th>number_of_reviews_ltm</th>\n",
              "      <th>license</th>\n",
              "      <th>city</th>\n",
              "    </tr>\n",
              "  </thead>\n",
              "  <tbody>\n",
              "    <tr>\n",
              "      <th>0</th>\n",
              "      <td>3109</td>\n",
              "      <td>zen and calm</td>\n",
              "      <td>3631</td>\n",
              "      <td>Anne</td>\n",
              "      <td>NaN</td>\n",
              "      <td>Observatoire</td>\n",
              "      <td>48.83191</td>\n",
              "      <td>2.31870</td>\n",
              "      <td>Entire home/apt</td>\n",
              "      <td>135.0</td>\n",
              "      <td>2</td>\n",
              "      <td>7</td>\n",
              "      <td>2025-06-03</td>\n",
              "      <td>0.08</td>\n",
              "      <td>1</td>\n",
              "      <td>355</td>\n",
              "      <td>3</td>\n",
              "      <td>7511409139079</td>\n",
              "      <td>Paris</td>\n",
              "    </tr>\n",
              "    <tr>\n",
              "      <th>1</th>\n",
              "      <td>5396</td>\n",
              "      <td>Your perfect Paris studio on Île Saint-Louis</td>\n",
              "      <td>7903</td>\n",
              "      <td>Borzou</td>\n",
              "      <td>NaN</td>\n",
              "      <td>Hôtel-de-Ville</td>\n",
              "      <td>48.85247</td>\n",
              "      <td>2.35835</td>\n",
              "      <td>Entire home/apt</td>\n",
              "      <td>114.0</td>\n",
              "      <td>1</td>\n",
              "      <td>452</td>\n",
              "      <td>2025-06-05</td>\n",
              "      <td>2.32</td>\n",
              "      <td>1</td>\n",
              "      <td>69</td>\n",
              "      <td>48</td>\n",
              "      <td>7510402838018</td>\n",
              "      <td>Paris</td>\n",
              "    </tr>\n",
              "    <tr>\n",
              "      <th>2</th>\n",
              "      <td>7397</td>\n",
              "      <td>MARAIS - 2ROOMS APT - 2/4 PEOPLE</td>\n",
              "      <td>2626</td>\n",
              "      <td>Franck</td>\n",
              "      <td>NaN</td>\n",
              "      <td>Hôtel-de-Ville</td>\n",
              "      <td>48.85909</td>\n",
              "      <td>2.35315</td>\n",
              "      <td>Entire home/apt</td>\n",
              "      <td>149.0</td>\n",
              "      <td>10</td>\n",
              "      <td>380</td>\n",
              "      <td>2025-06-03</td>\n",
              "      <td>2.20</td>\n",
              "      <td>1</td>\n",
              "      <td>197</td>\n",
              "      <td>25</td>\n",
              "      <td>7510400829623</td>\n",
              "      <td>Paris</td>\n",
              "    </tr>\n",
              "    <tr>\n",
              "      <th>3</th>\n",
              "      <td>7964</td>\n",
              "      <td>Sunny apartment with balcony</td>\n",
              "      <td>22155</td>\n",
              "      <td>Anaïs</td>\n",
              "      <td>NaN</td>\n",
              "      <td>Opéra</td>\n",
              "      <td>48.87417</td>\n",
              "      <td>2.34245</td>\n",
              "      <td>Entire home/apt</td>\n",
              "      <td>NaN</td>\n",
              "      <td>7</td>\n",
              "      <td>5</td>\n",
              "      <td>2015-09-14</td>\n",
              "      <td>0.03</td>\n",
              "      <td>1</td>\n",
              "      <td>0</td>\n",
              "      <td>0</td>\n",
              "      <td>7510903576564</td>\n",
              "      <td>Paris</td>\n",
              "    </tr>\n",
              "    <tr>\n",
              "      <th>4</th>\n",
              "      <td>9359</td>\n",
              "      <td>Cozy, Central Paris: WALK or VELIB EVERYWHERE !</td>\n",
              "      <td>28422</td>\n",
              "      <td>Bernadette</td>\n",
              "      <td>NaN</td>\n",
              "      <td>Louvre</td>\n",
              "      <td>48.86006</td>\n",
              "      <td>2.34863</td>\n",
              "      <td>Entire home/apt</td>\n",
              "      <td>75.0</td>\n",
              "      <td>180</td>\n",
              "      <td>0</td>\n",
              "      <td>NaN</td>\n",
              "      <td>NaN</td>\n",
              "      <td>1</td>\n",
              "      <td>358</td>\n",
              "      <td>0</td>\n",
              "      <td>Available with a mobility lease only (\"bail mo...</td>\n",
              "      <td>Paris</td>\n",
              "    </tr>\n",
              "  </tbody>\n",
              "</table>\n",
              "</div>\n",
              "    <div class=\"colab-df-buttons\">\n",
              "\n",
              "  <div class=\"colab-df-container\">\n",
              "    <button class=\"colab-df-convert\" onclick=\"convertToInteractive('df-29ad496c-e05c-4488-9989-4a1cedf254f3')\"\n",
              "            title=\"Convert this dataframe to an interactive table.\"\n",
              "            style=\"display:none;\">\n",
              "\n",
              "  <svg xmlns=\"http://www.w3.org/2000/svg\" height=\"24px\" viewBox=\"0 -960 960 960\">\n",
              "    <path d=\"M120-120v-720h720v720H120Zm60-500h600v-160H180v160Zm220 220h160v-160H400v160Zm0 220h160v-160H400v160ZM180-400h160v-160H180v160Zm440 0h160v-160H620v160ZM180-180h160v-160H180v160Zm440 0h160v-160H620v160Z\"/>\n",
              "  </svg>\n",
              "    </button>\n",
              "\n",
              "  <style>\n",
              "    .colab-df-container {\n",
              "      display:flex;\n",
              "      gap: 12px;\n",
              "    }\n",
              "\n",
              "    .colab-df-convert {\n",
              "      background-color: #E8F0FE;\n",
              "      border: none;\n",
              "      border-radius: 50%;\n",
              "      cursor: pointer;\n",
              "      display: none;\n",
              "      fill: #1967D2;\n",
              "      height: 32px;\n",
              "      padding: 0 0 0 0;\n",
              "      width: 32px;\n",
              "    }\n",
              "\n",
              "    .colab-df-convert:hover {\n",
              "      background-color: #E2EBFA;\n",
              "      box-shadow: 0px 1px 2px rgba(60, 64, 67, 0.3), 0px 1px 3px 1px rgba(60, 64, 67, 0.15);\n",
              "      fill: #174EA6;\n",
              "    }\n",
              "\n",
              "    .colab-df-buttons div {\n",
              "      margin-bottom: 4px;\n",
              "    }\n",
              "\n",
              "    [theme=dark] .colab-df-convert {\n",
              "      background-color: #3B4455;\n",
              "      fill: #D2E3FC;\n",
              "    }\n",
              "\n",
              "    [theme=dark] .colab-df-convert:hover {\n",
              "      background-color: #434B5C;\n",
              "      box-shadow: 0px 1px 3px 1px rgba(0, 0, 0, 0.15);\n",
              "      filter: drop-shadow(0px 1px 2px rgba(0, 0, 0, 0.3));\n",
              "      fill: #FFFFFF;\n",
              "    }\n",
              "  </style>\n",
              "\n",
              "    <script>\n",
              "      const buttonEl =\n",
              "        document.querySelector('#df-29ad496c-e05c-4488-9989-4a1cedf254f3 button.colab-df-convert');\n",
              "      buttonEl.style.display =\n",
              "        google.colab.kernel.accessAllowed ? 'block' : 'none';\n",
              "\n",
              "      async function convertToInteractive(key) {\n",
              "        const element = document.querySelector('#df-29ad496c-e05c-4488-9989-4a1cedf254f3');\n",
              "        const dataTable =\n",
              "          await google.colab.kernel.invokeFunction('convertToInteractive',\n",
              "                                                    [key], {});\n",
              "        if (!dataTable) return;\n",
              "\n",
              "        const docLinkHtml = 'Like what you see? Visit the ' +\n",
              "          '<a target=\"_blank\" href=https://colab.research.google.com/notebooks/data_table.ipynb>data table notebook</a>'\n",
              "          + ' to learn more about interactive tables.';\n",
              "        element.innerHTML = '';\n",
              "        dataTable['output_type'] = 'display_data';\n",
              "        await google.colab.output.renderOutput(dataTable, element);\n",
              "        const docLink = document.createElement('div');\n",
              "        docLink.innerHTML = docLinkHtml;\n",
              "        element.appendChild(docLink);\n",
              "      }\n",
              "    </script>\n",
              "  </div>\n",
              "\n",
              "\n",
              "    <div id=\"df-a473f288-d1b4-4dfb-979b-584d159b05e8\">\n",
              "      <button class=\"colab-df-quickchart\" onclick=\"quickchart('df-a473f288-d1b4-4dfb-979b-584d159b05e8')\"\n",
              "                title=\"Suggest charts\"\n",
              "                style=\"display:none;\">\n",
              "\n",
              "<svg xmlns=\"http://www.w3.org/2000/svg\" height=\"24px\"viewBox=\"0 0 24 24\"\n",
              "     width=\"24px\">\n",
              "    <g>\n",
              "        <path d=\"M19 3H5c-1.1 0-2 .9-2 2v14c0 1.1.9 2 2 2h14c1.1 0 2-.9 2-2V5c0-1.1-.9-2-2-2zM9 17H7v-7h2v7zm4 0h-2V7h2v10zm4 0h-2v-4h2v4z\"/>\n",
              "    </g>\n",
              "</svg>\n",
              "      </button>\n",
              "\n",
              "<style>\n",
              "  .colab-df-quickchart {\n",
              "      --bg-color: #E8F0FE;\n",
              "      --fill-color: #1967D2;\n",
              "      --hover-bg-color: #E2EBFA;\n",
              "      --hover-fill-color: #174EA6;\n",
              "      --disabled-fill-color: #AAA;\n",
              "      --disabled-bg-color: #DDD;\n",
              "  }\n",
              "\n",
              "  [theme=dark] .colab-df-quickchart {\n",
              "      --bg-color: #3B4455;\n",
              "      --fill-color: #D2E3FC;\n",
              "      --hover-bg-color: #434B5C;\n",
              "      --hover-fill-color: #FFFFFF;\n",
              "      --disabled-bg-color: #3B4455;\n",
              "      --disabled-fill-color: #666;\n",
              "  }\n",
              "\n",
              "  .colab-df-quickchart {\n",
              "    background-color: var(--bg-color);\n",
              "    border: none;\n",
              "    border-radius: 50%;\n",
              "    cursor: pointer;\n",
              "    display: none;\n",
              "    fill: var(--fill-color);\n",
              "    height: 32px;\n",
              "    padding: 0;\n",
              "    width: 32px;\n",
              "  }\n",
              "\n",
              "  .colab-df-quickchart:hover {\n",
              "    background-color: var(--hover-bg-color);\n",
              "    box-shadow: 0 1px 2px rgba(60, 64, 67, 0.3), 0 1px 3px 1px rgba(60, 64, 67, 0.15);\n",
              "    fill: var(--button-hover-fill-color);\n",
              "  }\n",
              "\n",
              "  .colab-df-quickchart-complete:disabled,\n",
              "  .colab-df-quickchart-complete:disabled:hover {\n",
              "    background-color: var(--disabled-bg-color);\n",
              "    fill: var(--disabled-fill-color);\n",
              "    box-shadow: none;\n",
              "  }\n",
              "\n",
              "  .colab-df-spinner {\n",
              "    border: 2px solid var(--fill-color);\n",
              "    border-color: transparent;\n",
              "    border-bottom-color: var(--fill-color);\n",
              "    animation:\n",
              "      spin 1s steps(1) infinite;\n",
              "  }\n",
              "\n",
              "  @keyframes spin {\n",
              "    0% {\n",
              "      border-color: transparent;\n",
              "      border-bottom-color: var(--fill-color);\n",
              "      border-left-color: var(--fill-color);\n",
              "    }\n",
              "    20% {\n",
              "      border-color: transparent;\n",
              "      border-left-color: var(--fill-color);\n",
              "      border-top-color: var(--fill-color);\n",
              "    }\n",
              "    30% {\n",
              "      border-color: transparent;\n",
              "      border-left-color: var(--fill-color);\n",
              "      border-top-color: var(--fill-color);\n",
              "      border-right-color: var(--fill-color);\n",
              "    }\n",
              "    40% {\n",
              "      border-color: transparent;\n",
              "      border-right-color: var(--fill-color);\n",
              "      border-top-color: var(--fill-color);\n",
              "    }\n",
              "    60% {\n",
              "      border-color: transparent;\n",
              "      border-right-color: var(--fill-color);\n",
              "    }\n",
              "    80% {\n",
              "      border-color: transparent;\n",
              "      border-right-color: var(--fill-color);\n",
              "      border-bottom-color: var(--fill-color);\n",
              "    }\n",
              "    90% {\n",
              "      border-color: transparent;\n",
              "      border-bottom-color: var(--fill-color);\n",
              "    }\n",
              "  }\n",
              "</style>\n",
              "\n",
              "      <script>\n",
              "        async function quickchart(key) {\n",
              "          const quickchartButtonEl =\n",
              "            document.querySelector('#' + key + ' button');\n",
              "          quickchartButtonEl.disabled = true;  // To prevent multiple clicks.\n",
              "          quickchartButtonEl.classList.add('colab-df-spinner');\n",
              "          try {\n",
              "            const charts = await google.colab.kernel.invokeFunction(\n",
              "                'suggestCharts', [key], {});\n",
              "          } catch (error) {\n",
              "            console.error('Error during call to suggestCharts:', error);\n",
              "          }\n",
              "          quickchartButtonEl.classList.remove('colab-df-spinner');\n",
              "          quickchartButtonEl.classList.add('colab-df-quickchart-complete');\n",
              "        }\n",
              "        (() => {\n",
              "          let quickchartButtonEl =\n",
              "            document.querySelector('#df-a473f288-d1b4-4dfb-979b-584d159b05e8 button');\n",
              "          quickchartButtonEl.style.display =\n",
              "            google.colab.kernel.accessAllowed ? 'block' : 'none';\n",
              "        })();\n",
              "      </script>\n",
              "    </div>\n",
              "\n",
              "    </div>\n",
              "  </div>\n"
            ],
            "application/vnd.google.colaboratory.intrinsic+json": {
              "type": "dataframe",
              "variable_name": "df"
            }
          },
          "metadata": {},
          "execution_count": 10
        }
      ],
      "source": [
        "df.head()"
      ]
    },
    {
      "cell_type": "markdown",
      "metadata": {
        "id": "A5kW6-_T3Opa"
      },
      "source": [
        "#Data Preprocessing"
      ]
    },
    {
      "cell_type": "code",
      "execution_count": 11,
      "metadata": {
        "colab": {
          "base_uri": "https://localhost:8080/",
          "height": 680
        },
        "id": "H-IFIkfgFbf0",
        "outputId": "94930b02-3759-4327-c1ea-502bce102a49"
      },
      "outputs": [
        {
          "output_type": "execute_result",
          "data": {
            "text/plain": [
              "id                                296386\n",
              "name                              279407\n",
              "host_id                           179962\n",
              "host_name                          37224\n",
              "neighbourhood_group                   22\n",
              "neighbourhood                        511\n",
              "latitude                          185655\n",
              "longitude                         200257\n",
              "room_type                              4\n",
              "price                              14825\n",
              "minimum_nights                       189\n",
              "number_of_reviews                    935\n",
              "last_review                         3795\n",
              "reviews_per_month                   1307\n",
              "calculated_host_listings_count       151\n",
              "availability_365                     366\n",
              "number_of_reviews_ltm                271\n",
              "license                           125112\n",
              "city                                  15\n",
              "dtype: int64"
            ],
            "text/html": [
              "<div>\n",
              "<style scoped>\n",
              "    .dataframe tbody tr th:only-of-type {\n",
              "        vertical-align: middle;\n",
              "    }\n",
              "\n",
              "    .dataframe tbody tr th {\n",
              "        vertical-align: top;\n",
              "    }\n",
              "\n",
              "    .dataframe thead th {\n",
              "        text-align: right;\n",
              "    }\n",
              "</style>\n",
              "<table border=\"1\" class=\"dataframe\">\n",
              "  <thead>\n",
              "    <tr style=\"text-align: right;\">\n",
              "      <th></th>\n",
              "      <th>0</th>\n",
              "    </tr>\n",
              "  </thead>\n",
              "  <tbody>\n",
              "    <tr>\n",
              "      <th>id</th>\n",
              "      <td>296386</td>\n",
              "    </tr>\n",
              "    <tr>\n",
              "      <th>name</th>\n",
              "      <td>279407</td>\n",
              "    </tr>\n",
              "    <tr>\n",
              "      <th>host_id</th>\n",
              "      <td>179962</td>\n",
              "    </tr>\n",
              "    <tr>\n",
              "      <th>host_name</th>\n",
              "      <td>37224</td>\n",
              "    </tr>\n",
              "    <tr>\n",
              "      <th>neighbourhood_group</th>\n",
              "      <td>22</td>\n",
              "    </tr>\n",
              "    <tr>\n",
              "      <th>neighbourhood</th>\n",
              "      <td>511</td>\n",
              "    </tr>\n",
              "    <tr>\n",
              "      <th>latitude</th>\n",
              "      <td>185655</td>\n",
              "    </tr>\n",
              "    <tr>\n",
              "      <th>longitude</th>\n",
              "      <td>200257</td>\n",
              "    </tr>\n",
              "    <tr>\n",
              "      <th>room_type</th>\n",
              "      <td>4</td>\n",
              "    </tr>\n",
              "    <tr>\n",
              "      <th>price</th>\n",
              "      <td>14825</td>\n",
              "    </tr>\n",
              "    <tr>\n",
              "      <th>minimum_nights</th>\n",
              "      <td>189</td>\n",
              "    </tr>\n",
              "    <tr>\n",
              "      <th>number_of_reviews</th>\n",
              "      <td>935</td>\n",
              "    </tr>\n",
              "    <tr>\n",
              "      <th>last_review</th>\n",
              "      <td>3795</td>\n",
              "    </tr>\n",
              "    <tr>\n",
              "      <th>reviews_per_month</th>\n",
              "      <td>1307</td>\n",
              "    </tr>\n",
              "    <tr>\n",
              "      <th>calculated_host_listings_count</th>\n",
              "      <td>151</td>\n",
              "    </tr>\n",
              "    <tr>\n",
              "      <th>availability_365</th>\n",
              "      <td>366</td>\n",
              "    </tr>\n",
              "    <tr>\n",
              "      <th>number_of_reviews_ltm</th>\n",
              "      <td>271</td>\n",
              "    </tr>\n",
              "    <tr>\n",
              "      <th>license</th>\n",
              "      <td>125112</td>\n",
              "    </tr>\n",
              "    <tr>\n",
              "      <th>city</th>\n",
              "      <td>15</td>\n",
              "    </tr>\n",
              "  </tbody>\n",
              "</table>\n",
              "</div><br><label><b>dtype:</b> int64</label>"
            ]
          },
          "metadata": {},
          "execution_count": 11
        }
      ],
      "source": [
        "df.nunique()"
      ]
    },
    {
      "cell_type": "code",
      "execution_count": 12,
      "metadata": {
        "colab": {
          "base_uri": "https://localhost:8080/",
          "height": 680
        },
        "id": "_K9RxxxYwgHx",
        "outputId": "ab8b0288-6320-439e-b662-842f588d105a"
      },
      "outputs": [
        {
          "output_type": "execute_result",
          "data": {
            "text/plain": [
              "id                                     0\n",
              "name                                   0\n",
              "host_id                                0\n",
              "host_name                           1088\n",
              "neighbourhood_group               263272\n",
              "neighbourhood                          0\n",
              "latitude                               0\n",
              "longitude                              0\n",
              "room_type                              0\n",
              "price                              72437\n",
              "minimum_nights                         0\n",
              "number_of_reviews                      0\n",
              "last_review                        61995\n",
              "reviews_per_month                  61995\n",
              "calculated_host_listings_count         0\n",
              "availability_365                       0\n",
              "number_of_reviews_ltm                  0\n",
              "license                           126185\n",
              "city                                   0\n",
              "dtype: int64"
            ],
            "text/html": [
              "<div>\n",
              "<style scoped>\n",
              "    .dataframe tbody tr th:only-of-type {\n",
              "        vertical-align: middle;\n",
              "    }\n",
              "\n",
              "    .dataframe tbody tr th {\n",
              "        vertical-align: top;\n",
              "    }\n",
              "\n",
              "    .dataframe thead th {\n",
              "        text-align: right;\n",
              "    }\n",
              "</style>\n",
              "<table border=\"1\" class=\"dataframe\">\n",
              "  <thead>\n",
              "    <tr style=\"text-align: right;\">\n",
              "      <th></th>\n",
              "      <th>0</th>\n",
              "    </tr>\n",
              "  </thead>\n",
              "  <tbody>\n",
              "    <tr>\n",
              "      <th>id</th>\n",
              "      <td>0</td>\n",
              "    </tr>\n",
              "    <tr>\n",
              "      <th>name</th>\n",
              "      <td>0</td>\n",
              "    </tr>\n",
              "    <tr>\n",
              "      <th>host_id</th>\n",
              "      <td>0</td>\n",
              "    </tr>\n",
              "    <tr>\n",
              "      <th>host_name</th>\n",
              "      <td>1088</td>\n",
              "    </tr>\n",
              "    <tr>\n",
              "      <th>neighbourhood_group</th>\n",
              "      <td>263272</td>\n",
              "    </tr>\n",
              "    <tr>\n",
              "      <th>neighbourhood</th>\n",
              "      <td>0</td>\n",
              "    </tr>\n",
              "    <tr>\n",
              "      <th>latitude</th>\n",
              "      <td>0</td>\n",
              "    </tr>\n",
              "    <tr>\n",
              "      <th>longitude</th>\n",
              "      <td>0</td>\n",
              "    </tr>\n",
              "    <tr>\n",
              "      <th>room_type</th>\n",
              "      <td>0</td>\n",
              "    </tr>\n",
              "    <tr>\n",
              "      <th>price</th>\n",
              "      <td>72437</td>\n",
              "    </tr>\n",
              "    <tr>\n",
              "      <th>minimum_nights</th>\n",
              "      <td>0</td>\n",
              "    </tr>\n",
              "    <tr>\n",
              "      <th>number_of_reviews</th>\n",
              "      <td>0</td>\n",
              "    </tr>\n",
              "    <tr>\n",
              "      <th>last_review</th>\n",
              "      <td>61995</td>\n",
              "    </tr>\n",
              "    <tr>\n",
              "      <th>reviews_per_month</th>\n",
              "      <td>61995</td>\n",
              "    </tr>\n",
              "    <tr>\n",
              "      <th>calculated_host_listings_count</th>\n",
              "      <td>0</td>\n",
              "    </tr>\n",
              "    <tr>\n",
              "      <th>availability_365</th>\n",
              "      <td>0</td>\n",
              "    </tr>\n",
              "    <tr>\n",
              "      <th>number_of_reviews_ltm</th>\n",
              "      <td>0</td>\n",
              "    </tr>\n",
              "    <tr>\n",
              "      <th>license</th>\n",
              "      <td>126185</td>\n",
              "    </tr>\n",
              "    <tr>\n",
              "      <th>city</th>\n",
              "      <td>0</td>\n",
              "    </tr>\n",
              "  </tbody>\n",
              "</table>\n",
              "</div><br><label><b>dtype:</b> int64</label>"
            ]
          },
          "metadata": {},
          "execution_count": 12
        }
      ],
      "source": [
        "df.isna().sum()"
      ]
    },
    {
      "cell_type": "code",
      "execution_count": 13,
      "metadata": {
        "colab": {
          "base_uri": "https://localhost:8080/",
          "height": 680
        },
        "id": "XYlURXrSwqro",
        "outputId": "afbf69d3-9a2f-47f0-c438-abb1e2e7fe97"
      },
      "outputs": [
        {
          "output_type": "execute_result",
          "data": {
            "text/plain": [
              "id                                 0.000000\n",
              "name                               0.000000\n",
              "host_id                            0.000000\n",
              "host_name                          0.367089\n",
              "neighbourhood_group               88.827408\n",
              "neighbourhood                      0.000000\n",
              "latitude                           0.000000\n",
              "longitude                          0.000000\n",
              "room_type                          0.000000\n",
              "price                             24.440088\n",
              "minimum_nights                     0.000000\n",
              "number_of_reviews                  0.000000\n",
              "last_review                       20.916980\n",
              "reviews_per_month                 20.916980\n",
              "calculated_host_listings_count     0.000000\n",
              "availability_365                   0.000000\n",
              "number_of_reviews_ltm              0.000000\n",
              "license                           42.574548\n",
              "city                               0.000000\n",
              "dtype: float64"
            ],
            "text/html": [
              "<div>\n",
              "<style scoped>\n",
              "    .dataframe tbody tr th:only-of-type {\n",
              "        vertical-align: middle;\n",
              "    }\n",
              "\n",
              "    .dataframe tbody tr th {\n",
              "        vertical-align: top;\n",
              "    }\n",
              "\n",
              "    .dataframe thead th {\n",
              "        text-align: right;\n",
              "    }\n",
              "</style>\n",
              "<table border=\"1\" class=\"dataframe\">\n",
              "  <thead>\n",
              "    <tr style=\"text-align: right;\">\n",
              "      <th></th>\n",
              "      <th>0</th>\n",
              "    </tr>\n",
              "  </thead>\n",
              "  <tbody>\n",
              "    <tr>\n",
              "      <th>id</th>\n",
              "      <td>0.000000</td>\n",
              "    </tr>\n",
              "    <tr>\n",
              "      <th>name</th>\n",
              "      <td>0.000000</td>\n",
              "    </tr>\n",
              "    <tr>\n",
              "      <th>host_id</th>\n",
              "      <td>0.000000</td>\n",
              "    </tr>\n",
              "    <tr>\n",
              "      <th>host_name</th>\n",
              "      <td>0.367089</td>\n",
              "    </tr>\n",
              "    <tr>\n",
              "      <th>neighbourhood_group</th>\n",
              "      <td>88.827408</td>\n",
              "    </tr>\n",
              "    <tr>\n",
              "      <th>neighbourhood</th>\n",
              "      <td>0.000000</td>\n",
              "    </tr>\n",
              "    <tr>\n",
              "      <th>latitude</th>\n",
              "      <td>0.000000</td>\n",
              "    </tr>\n",
              "    <tr>\n",
              "      <th>longitude</th>\n",
              "      <td>0.000000</td>\n",
              "    </tr>\n",
              "    <tr>\n",
              "      <th>room_type</th>\n",
              "      <td>0.000000</td>\n",
              "    </tr>\n",
              "    <tr>\n",
              "      <th>price</th>\n",
              "      <td>24.440088</td>\n",
              "    </tr>\n",
              "    <tr>\n",
              "      <th>minimum_nights</th>\n",
              "      <td>0.000000</td>\n",
              "    </tr>\n",
              "    <tr>\n",
              "      <th>number_of_reviews</th>\n",
              "      <td>0.000000</td>\n",
              "    </tr>\n",
              "    <tr>\n",
              "      <th>last_review</th>\n",
              "      <td>20.916980</td>\n",
              "    </tr>\n",
              "    <tr>\n",
              "      <th>reviews_per_month</th>\n",
              "      <td>20.916980</td>\n",
              "    </tr>\n",
              "    <tr>\n",
              "      <th>calculated_host_listings_count</th>\n",
              "      <td>0.000000</td>\n",
              "    </tr>\n",
              "    <tr>\n",
              "      <th>availability_365</th>\n",
              "      <td>0.000000</td>\n",
              "    </tr>\n",
              "    <tr>\n",
              "      <th>number_of_reviews_ltm</th>\n",
              "      <td>0.000000</td>\n",
              "    </tr>\n",
              "    <tr>\n",
              "      <th>license</th>\n",
              "      <td>42.574548</td>\n",
              "    </tr>\n",
              "    <tr>\n",
              "      <th>city</th>\n",
              "      <td>0.000000</td>\n",
              "    </tr>\n",
              "  </tbody>\n",
              "</table>\n",
              "</div><br><label><b>dtype:</b> float64</label>"
            ]
          },
          "metadata": {},
          "execution_count": 13
        }
      ],
      "source": [
        "df.isna().sum() / df.shape[0] * 100"
      ]
    },
    {
      "cell_type": "code",
      "source": [
        "df['host_name'].value_counts()"
      ],
      "metadata": {
        "colab": {
          "base_uri": "https://localhost:8080/",
          "height": 489
        },
        "id": "nTVgBd0_FEq-",
        "outputId": "de339765-5995-46ec-cf42-744fa6cc49a5"
      },
      "execution_count": 26,
      "outputs": [
        {
          "output_type": "execute_result",
          "data": {
            "text/plain": [
              "host_name\n",
              "Blueground          1753\n",
              "David               1409\n",
              "Michael             1371\n",
              "Anna                1299\n",
              "Andrea              1276\n",
              "                    ... \n",
              "Gracia-Toussaint       1\n",
              "Anneleen               1\n",
              "Roha Ali               1\n",
              "Lorana                 1\n",
              "Klaasjan               1\n",
              "Name: count, Length: 37224, dtype: int64"
            ],
            "text/html": [
              "<div>\n",
              "<style scoped>\n",
              "    .dataframe tbody tr th:only-of-type {\n",
              "        vertical-align: middle;\n",
              "    }\n",
              "\n",
              "    .dataframe tbody tr th {\n",
              "        vertical-align: top;\n",
              "    }\n",
              "\n",
              "    .dataframe thead th {\n",
              "        text-align: right;\n",
              "    }\n",
              "</style>\n",
              "<table border=\"1\" class=\"dataframe\">\n",
              "  <thead>\n",
              "    <tr style=\"text-align: right;\">\n",
              "      <th></th>\n",
              "      <th>count</th>\n",
              "    </tr>\n",
              "    <tr>\n",
              "      <th>host_name</th>\n",
              "      <th></th>\n",
              "    </tr>\n",
              "  </thead>\n",
              "  <tbody>\n",
              "    <tr>\n",
              "      <th>Blueground</th>\n",
              "      <td>1753</td>\n",
              "    </tr>\n",
              "    <tr>\n",
              "      <th>David</th>\n",
              "      <td>1409</td>\n",
              "    </tr>\n",
              "    <tr>\n",
              "      <th>Michael</th>\n",
              "      <td>1371</td>\n",
              "    </tr>\n",
              "    <tr>\n",
              "      <th>Anna</th>\n",
              "      <td>1299</td>\n",
              "    </tr>\n",
              "    <tr>\n",
              "      <th>Andrea</th>\n",
              "      <td>1276</td>\n",
              "    </tr>\n",
              "    <tr>\n",
              "      <th>...</th>\n",
              "      <td>...</td>\n",
              "    </tr>\n",
              "    <tr>\n",
              "      <th>Gracia-Toussaint</th>\n",
              "      <td>1</td>\n",
              "    </tr>\n",
              "    <tr>\n",
              "      <th>Anneleen</th>\n",
              "      <td>1</td>\n",
              "    </tr>\n",
              "    <tr>\n",
              "      <th>Roha Ali</th>\n",
              "      <td>1</td>\n",
              "    </tr>\n",
              "    <tr>\n",
              "      <th>Lorana</th>\n",
              "      <td>1</td>\n",
              "    </tr>\n",
              "    <tr>\n",
              "      <th>Klaasjan</th>\n",
              "      <td>1</td>\n",
              "    </tr>\n",
              "  </tbody>\n",
              "</table>\n",
              "<p>37224 rows × 1 columns</p>\n",
              "</div><br><label><b>dtype:</b> int64</label>"
            ]
          },
          "metadata": {},
          "execution_count": 26
        }
      ]
    },
    {
      "cell_type": "code",
      "source": [
        "missing_pct_by_city = df.groupby('city')['license'].apply(lambda x: x.isna().mean() * 100)\n"
      ],
      "metadata": {
        "id": "PHhoiq2qSeeK"
      },
      "execution_count": 19,
      "outputs": []
    },
    {
      "cell_type": "code",
      "source": [
        "df['city'].value_counts()"
      ],
      "metadata": {
        "colab": {
          "base_uri": "https://localhost:8080/",
          "height": 585
        },
        "id": "emgIBviVCnHg",
        "outputId": "718104c5-99dc-4a1b-e43e-1a7ccadb7da8"
      },
      "execution_count": 21,
      "outputs": [
        {
          "output_type": "execute_result",
          "data": {
            "text/plain": [
              "city\n",
              "Paris         84055\n",
              "Rome          34542\n",
              "Istanbul      29984\n",
              "Copenhagen    21722\n",
              "Barcelona     18927\n",
              "Athens        15632\n",
              "Vienna        14294\n",
              "Berlin        14187\n",
              "Budapest      12313\n",
              "Oslo          11152\n",
              "Prague        10593\n",
              "Amsterdam     10168\n",
              "Dublin         6781\n",
              "Brussels       6721\n",
              "Stockholm      5315\n",
              "Name: count, dtype: int64"
            ],
            "text/html": [
              "<div>\n",
              "<style scoped>\n",
              "    .dataframe tbody tr th:only-of-type {\n",
              "        vertical-align: middle;\n",
              "    }\n",
              "\n",
              "    .dataframe tbody tr th {\n",
              "        vertical-align: top;\n",
              "    }\n",
              "\n",
              "    .dataframe thead th {\n",
              "        text-align: right;\n",
              "    }\n",
              "</style>\n",
              "<table border=\"1\" class=\"dataframe\">\n",
              "  <thead>\n",
              "    <tr style=\"text-align: right;\">\n",
              "      <th></th>\n",
              "      <th>count</th>\n",
              "    </tr>\n",
              "    <tr>\n",
              "      <th>city</th>\n",
              "      <th></th>\n",
              "    </tr>\n",
              "  </thead>\n",
              "  <tbody>\n",
              "    <tr>\n",
              "      <th>Paris</th>\n",
              "      <td>84055</td>\n",
              "    </tr>\n",
              "    <tr>\n",
              "      <th>Rome</th>\n",
              "      <td>34542</td>\n",
              "    </tr>\n",
              "    <tr>\n",
              "      <th>Istanbul</th>\n",
              "      <td>29984</td>\n",
              "    </tr>\n",
              "    <tr>\n",
              "      <th>Copenhagen</th>\n",
              "      <td>21722</td>\n",
              "    </tr>\n",
              "    <tr>\n",
              "      <th>Barcelona</th>\n",
              "      <td>18927</td>\n",
              "    </tr>\n",
              "    <tr>\n",
              "      <th>Athens</th>\n",
              "      <td>15632</td>\n",
              "    </tr>\n",
              "    <tr>\n",
              "      <th>Vienna</th>\n",
              "      <td>14294</td>\n",
              "    </tr>\n",
              "    <tr>\n",
              "      <th>Berlin</th>\n",
              "      <td>14187</td>\n",
              "    </tr>\n",
              "    <tr>\n",
              "      <th>Budapest</th>\n",
              "      <td>12313</td>\n",
              "    </tr>\n",
              "    <tr>\n",
              "      <th>Oslo</th>\n",
              "      <td>11152</td>\n",
              "    </tr>\n",
              "    <tr>\n",
              "      <th>Prague</th>\n",
              "      <td>10593</td>\n",
              "    </tr>\n",
              "    <tr>\n",
              "      <th>Amsterdam</th>\n",
              "      <td>10168</td>\n",
              "    </tr>\n",
              "    <tr>\n",
              "      <th>Dublin</th>\n",
              "      <td>6781</td>\n",
              "    </tr>\n",
              "    <tr>\n",
              "      <th>Brussels</th>\n",
              "      <td>6721</td>\n",
              "    </tr>\n",
              "    <tr>\n",
              "      <th>Stockholm</th>\n",
              "      <td>5315</td>\n",
              "    </tr>\n",
              "  </tbody>\n",
              "</table>\n",
              "</div><br><label><b>dtype:</b> int64</label>"
            ]
          },
          "metadata": {},
          "execution_count": 21
        }
      ]
    },
    {
      "cell_type": "code",
      "source": [
        "df.shape"
      ],
      "metadata": {
        "colab": {
          "base_uri": "https://localhost:8080/"
        },
        "id": "oRb9MZeKCv5V",
        "outputId": "77c6a7bd-62b6-4b31-e778-40c728927e01"
      },
      "execution_count": 22,
      "outputs": [
        {
          "output_type": "execute_result",
          "data": {
            "text/plain": [
              "(296386, 19)"
            ]
          },
          "metadata": {},
          "execution_count": 22
        }
      ]
    },
    {
      "cell_type": "code",
      "source": [
        "print(missing_pct_by_city)"
      ],
      "metadata": {
        "colab": {
          "base_uri": "https://localhost:8080/"
        },
        "id": "UTNA6q9cCGrs",
        "outputId": "f46b5153-f032-40d1-d6fb-dc31f6eda69b"
      },
      "execution_count": 20,
      "outputs": [
        {
          "output_type": "stream",
          "name": "stdout",
          "text": [
            "city\n",
            "Amsterdam       1.042486\n",
            "Athens          1.298618\n",
            "Barcelona      33.439002\n",
            "Berlin         61.288504\n",
            "Brussels      100.000000\n",
            "Budapest        7.049460\n",
            "Copenhagen    100.000000\n",
            "Dublin        100.000000\n",
            "Istanbul       41.188634\n",
            "Oslo          100.000000\n",
            "Paris          20.963655\n",
            "Prague        100.000000\n",
            "Rome            9.944415\n",
            "Stockholm     100.000000\n",
            "Vienna        100.000000\n",
            "Name: license, dtype: float64\n"
          ]
        }
      ]
    },
    {
      "cell_type": "code",
      "source": [
        "import pandas as pd\n",
        "from scipy.stats import mannwhitneyu\n",
        "\n",
        "def license_impact_by_city(df):\n",
        "    results = []\n",
        "    cities = df['city'].unique()\n",
        "    for city in cities:\n",
        "        city_df = df[df['city'] == city]\n",
        "        # Only test if both groups (with and without license) exist\n",
        "        if city_df['license'].notna().any() and city_df['license'].isna().any():\n",
        "            city_df['has_license'] = ~city_df['license'].isna()\n",
        "            price_with_license = city_df[city_df['has_license']]['price'].dropna()\n",
        "            price_without_license = city_df[~city_df['has_license']]['price'].dropna()\n",
        "            if len(price_with_license) > 0 and len(price_without_license) > 0:\n",
        "                stat, p_value = mannwhitneyu(price_with_license, price_without_license, alternative='two-sided')\n",
        "                results.append({'city': city, 'statistic': stat, 'p_value': p_value})\n",
        "            else:\n",
        "                results.append({'city': city, 'statistic': None, 'p_value': None})\n",
        "        else:\n",
        "            results.append({'city': city, 'statistic': None, 'p_value': None})\n",
        "\n",
        "    return pd.DataFrame(results)\n",
        "\n",
        "# Usage example:\n",
        "# results_df = license_impact_by_city(df)\n",
        "# print(results_df)\n"
      ],
      "metadata": {
        "id": "S9j7zgXGDSYw"
      },
      "execution_count": 24,
      "outputs": []
    },
    {
      "cell_type": "code",
      "source": [
        "results_df = license_impact_by_city(df)\n",
        "print(results_df)"
      ],
      "metadata": {
        "colab": {
          "base_uri": "https://localhost:8080/"
        },
        "id": "-v1CeP9NDvWG",
        "outputId": "34b68db6-63f7-492e-f33a-f33db5eb53f4"
      },
      "execution_count": 25,
      "outputs": [
        {
          "output_type": "stream",
          "name": "stdout",
          "text": [
            "          city    statistic        p_value\n",
            "0        Paris  163689252.5  4.641343e-117\n",
            "1         Rome   31549145.0   4.660236e-09\n",
            "2    Amsterdam     232501.0   4.931837e-01\n",
            "3       Berlin    9944472.5   5.902586e-05\n",
            "4       Prague          NaN            NaN\n",
            "5    Barcelona   35921135.5   0.000000e+00\n",
            "6     Budapest    4079568.0   1.098329e-03\n",
            "7       Vienna          NaN            NaN\n",
            "8       Athens    1380601.0   4.778838e-02\n",
            "9     Istanbul  100916249.5  3.146022e-279\n",
            "10      Dublin          NaN            NaN\n",
            "11        Oslo          NaN            NaN\n",
            "12   Stockholm          NaN            NaN\n",
            "13  Copenhagen          NaN            NaN\n",
            "14    Brussels          NaN            NaN\n"
          ]
        }
      ]
    },
    {
      "cell_type": "markdown",
      "source": [
        "\n",
        "\n",
        "> The **license** feature was dropped because it is missing or non-significant for most cities, contributing little to price prediction at a global level. Removing it ensures the model is robust, generalizable across cities, and not biased by irrelevant or sparse data.\n",
        "\n"
      ],
      "metadata": {
        "id": "Sv1rfY4vE6Fn"
      }
    },
    {
      "cell_type": "code",
      "execution_count": null,
      "metadata": {
        "id": "1UzLaRz_xyot"
      },
      "outputs": [],
      "source": [
        "df.drop(['id', 'host_id', 'host_name', 'last_review','license','neighbourhood_group', 'name'], axis=1 , inplace=True)"
      ]
    },
    {
      "cell_type": "markdown",
      "source": [
        "\n",
        "\n",
        "> **last_review** was dropped since raw date itself is not useful for most models and is often highly missing/irrelevant.\n",
        "\n",
        "\n",
        "> The **name** column was dropped because it’s free text, mostly unique, and provides little consistent predictive value for price. Keeping it may add noise, risk leakage, and complicate the model without benefit\n",
        "\n",
        "\n",
        "> Both **id** and **host_id** are dropped from modeling because they are unique identifiers, not true predictive features. Including them would not add information and can lead to overfitting or poor generalization, as the model might memorize training data instead of learning meaningful patterns.\n",
        "\n",
        "\n",
        "> **host_name** introduces leakage, cannot generalize, and conveys little value compared to proper aggregated features like **calculated_host_listings_count**.\n",
        "\n",
        "\n",
        "\n",
        "\n",
        "\n",
        "\n"
      ],
      "metadata": {
        "id": "5Of_AjYrGK00"
      }
    },
    {
      "cell_type": "code",
      "execution_count": null,
      "metadata": {
        "colab": {
          "base_uri": "https://localhost:8080/"
        },
        "id": "nXpRdG0Wy04V",
        "outputId": "3426a5d7-abc0-4a65-8059-74cbcc3144e1"
      },
      "outputs": [
        {
          "output_type": "stream",
          "name": "stdout",
          "text": [
            "<class 'pandas.core.frame.DataFrame'>\n",
            "RangeIndex: 296386 entries, 0 to 296385\n",
            "Data columns (total 12 columns):\n",
            " #   Column                          Non-Null Count   Dtype  \n",
            "---  ------                          --------------   -----  \n",
            " 0   neighbourhood                   296386 non-null  object \n",
            " 1   latitude                        296386 non-null  float64\n",
            " 2   longitude                       296386 non-null  float64\n",
            " 3   room_type                       296386 non-null  object \n",
            " 4   price                           223949 non-null  float64\n",
            " 5   minimum_nights                  296386 non-null  int64  \n",
            " 6   number_of_reviews               296386 non-null  int64  \n",
            " 7   reviews_per_month               234391 non-null  float64\n",
            " 8   calculated_host_listings_count  296386 non-null  int64  \n",
            " 9   availability_365                296386 non-null  int64  \n",
            " 10  number_of_reviews_ltm           296386 non-null  int64  \n",
            " 11  city                            296386 non-null  object \n",
            "dtypes: float64(4), int64(5), object(3)\n",
            "memory usage: 27.1+ MB\n"
          ]
        }
      ],
      "source": [
        "df.info()"
      ]
    },
    {
      "cell_type": "code",
      "source": [
        "# HYPOTHESIS TEST: Are missing prices randomly distributed across cities?\n",
        "print(\"=== MISSING DATA PATTERN ANALYSIS ===\")\n",
        "\n",
        "df['price_missing'] = df['price'].isnull()\n",
        "contingency_missing = pd.crosstab(df['city'], df['price_missing'])\n",
        "\n",
        "chi2, p_missing, dof, expected = chi2_contingency(contingency_missing)\n",
        "print(interpret_pvalue(p_missing, \"Missing Price Pattern Test\"))\n",
        "\n",
        "PRICE_MISSING_SYSTEMATIC = p_missing < 0.05\n"
      ],
      "metadata": {
        "colab": {
          "base_uri": "https://localhost:8080/"
        },
        "id": "cAdzkh7n8odj",
        "outputId": "e2c11a00-b81f-4af8-b973-38949e8c9e6d"
      },
      "execution_count": null,
      "outputs": [
        {
          "output_type": "stream",
          "name": "stdout",
          "text": [
            "=== MISSING DATA PATTERN ANALYSIS ===\n",
            "✅ Missing Price Pattern Test: SIGNIFICANT (p=0.0000 < 0.05)\n"
          ]
        }
      ]
    },
    {
      "cell_type": "code",
      "execution_count": null,
      "metadata": {
        "id": "ZbPICURJ0K46"
      },
      "outputs": [],
      "source": [
        "df.drop_duplicates(inplace=True)"
      ]
    },
    {
      "cell_type": "code",
      "execution_count": null,
      "metadata": {
        "colab": {
          "base_uri": "https://localhost:8080/"
        },
        "id": "OwFZ2m1W1D87",
        "outputId": "764bb25a-fb22-4eae-d825-297abb848346"
      },
      "outputs": [
        {
          "output_type": "execute_result",
          "data": {
            "text/plain": [
              "(295861, 13)"
            ]
          },
          "metadata": {},
          "execution_count": 15
        }
      ],
      "source": [
        "df.shape"
      ]
    },
    {
      "cell_type": "code",
      "execution_count": null,
      "metadata": {
        "colab": {
          "base_uri": "https://localhost:8080/",
          "height": 491
        },
        "id": "wkgjtsAk9oTn",
        "outputId": "a3fcf262-5bff-4aa7-e9ca-5cebcd541ed1"
      },
      "outputs": [
        {
          "output_type": "execute_result",
          "data": {
            "text/plain": [
              "neighbourhood                         0\n",
              "latitude                              0\n",
              "longitude                             0\n",
              "room_type                             0\n",
              "price                             72200\n",
              "minimum_nights                        0\n",
              "number_of_reviews                     0\n",
              "reviews_per_month                 61502\n",
              "calculated_host_listings_count        0\n",
              "availability_365                      0\n",
              "number_of_reviews_ltm                 0\n",
              "city                                  0\n",
              "price_missing                         0\n",
              "dtype: int64"
            ],
            "text/html": [
              "<div>\n",
              "<style scoped>\n",
              "    .dataframe tbody tr th:only-of-type {\n",
              "        vertical-align: middle;\n",
              "    }\n",
              "\n",
              "    .dataframe tbody tr th {\n",
              "        vertical-align: top;\n",
              "    }\n",
              "\n",
              "    .dataframe thead th {\n",
              "        text-align: right;\n",
              "    }\n",
              "</style>\n",
              "<table border=\"1\" class=\"dataframe\">\n",
              "  <thead>\n",
              "    <tr style=\"text-align: right;\">\n",
              "      <th></th>\n",
              "      <th>0</th>\n",
              "    </tr>\n",
              "  </thead>\n",
              "  <tbody>\n",
              "    <tr>\n",
              "      <th>neighbourhood</th>\n",
              "      <td>0</td>\n",
              "    </tr>\n",
              "    <tr>\n",
              "      <th>latitude</th>\n",
              "      <td>0</td>\n",
              "    </tr>\n",
              "    <tr>\n",
              "      <th>longitude</th>\n",
              "      <td>0</td>\n",
              "    </tr>\n",
              "    <tr>\n",
              "      <th>room_type</th>\n",
              "      <td>0</td>\n",
              "    </tr>\n",
              "    <tr>\n",
              "      <th>price</th>\n",
              "      <td>72200</td>\n",
              "    </tr>\n",
              "    <tr>\n",
              "      <th>minimum_nights</th>\n",
              "      <td>0</td>\n",
              "    </tr>\n",
              "    <tr>\n",
              "      <th>number_of_reviews</th>\n",
              "      <td>0</td>\n",
              "    </tr>\n",
              "    <tr>\n",
              "      <th>reviews_per_month</th>\n",
              "      <td>61502</td>\n",
              "    </tr>\n",
              "    <tr>\n",
              "      <th>calculated_host_listings_count</th>\n",
              "      <td>0</td>\n",
              "    </tr>\n",
              "    <tr>\n",
              "      <th>availability_365</th>\n",
              "      <td>0</td>\n",
              "    </tr>\n",
              "    <tr>\n",
              "      <th>number_of_reviews_ltm</th>\n",
              "      <td>0</td>\n",
              "    </tr>\n",
              "    <tr>\n",
              "      <th>city</th>\n",
              "      <td>0</td>\n",
              "    </tr>\n",
              "    <tr>\n",
              "      <th>price_missing</th>\n",
              "      <td>0</td>\n",
              "    </tr>\n",
              "  </tbody>\n",
              "</table>\n",
              "</div><br><label><b>dtype:</b> int64</label>"
            ]
          },
          "metadata": {},
          "execution_count": 16
        }
      ],
      "source": [
        "df.isna().sum()"
      ]
    },
    {
      "cell_type": "code",
      "execution_count": null,
      "metadata": {
        "id": "TjCEOhrp-r0D"
      },
      "outputs": [],
      "source": [
        "df['price'] = df.groupby(['city', 'room_type'])['price'].transform(lambda x: x.fillna(x.mean()))"
      ]
    },
    {
      "cell_type": "markdown",
      "source": [
        "> Why Group-wise Mean Imputation\n",
        "\n",
        "\n",
        "\n",
        "Instead of filling missing prices with the overall dataset mean or median,\n",
        "we used the **mean price within each city-room_type group**.  \n",
        "This approach ensures:\n",
        "1. The imputed values are context-specific (e.g., a missing price for a \"Private room\" in Paris gets filled using other \"Private rooms\" in Paris).\n",
        "2. It avoids unrealistic global averages (e.g., luxury listings inflating prices for budget listings in other cities).\n",
        "3. It maintains the natural price variation between cities and property types.\n"
      ],
      "metadata": {
        "id": "UJG6bEgk007V"
      }
    },
    {
      "cell_type": "code",
      "execution_count": null,
      "metadata": {
        "id": "J-yaDaMp-z7P"
      },
      "outputs": [],
      "source": [
        "df['reviews_per_month'].fillna(df['reviews_per_month'].median(), inplace=True)"
      ]
    },
    {
      "cell_type": "code",
      "execution_count": null,
      "metadata": {
        "id": "KcpxgagjBIYd"
      },
      "outputs": [],
      "source": [
        "upper_price = df['price'].quantile(0.99)\n",
        "df = df[df['price'] <= upper_price]"
      ]
    },
    {
      "cell_type": "code",
      "source": [
        "df['price'].describe()"
      ],
      "metadata": {
        "colab": {
          "base_uri": "https://localhost:8080/",
          "height": 335
        },
        "id": "9BvmkmRy9eCo",
        "outputId": "fd6c3fb5-94ba-492c-a7db-5fa0694d6309"
      },
      "execution_count": null,
      "outputs": [
        {
          "output_type": "execute_result",
          "data": {
            "text/plain": [
              "count    293425.000000\n",
              "mean       1544.817831\n",
              "std        4572.143827\n",
              "min           5.000000\n",
              "25%         112.000000\n",
              "50%         262.000000\n",
              "75%        1080.000000\n",
              "max       39593.061241\n",
              "Name: price, dtype: float64"
            ],
            "text/html": [
              "<div>\n",
              "<style scoped>\n",
              "    .dataframe tbody tr th:only-of-type {\n",
              "        vertical-align: middle;\n",
              "    }\n",
              "\n",
              "    .dataframe tbody tr th {\n",
              "        vertical-align: top;\n",
              "    }\n",
              "\n",
              "    .dataframe thead th {\n",
              "        text-align: right;\n",
              "    }\n",
              "</style>\n",
              "<table border=\"1\" class=\"dataframe\">\n",
              "  <thead>\n",
              "    <tr style=\"text-align: right;\">\n",
              "      <th></th>\n",
              "      <th>price</th>\n",
              "    </tr>\n",
              "  </thead>\n",
              "  <tbody>\n",
              "    <tr>\n",
              "      <th>count</th>\n",
              "      <td>293425.000000</td>\n",
              "    </tr>\n",
              "    <tr>\n",
              "      <th>mean</th>\n",
              "      <td>1544.817831</td>\n",
              "    </tr>\n",
              "    <tr>\n",
              "      <th>std</th>\n",
              "      <td>4572.143827</td>\n",
              "    </tr>\n",
              "    <tr>\n",
              "      <th>min</th>\n",
              "      <td>5.000000</td>\n",
              "    </tr>\n",
              "    <tr>\n",
              "      <th>25%</th>\n",
              "      <td>112.000000</td>\n",
              "    </tr>\n",
              "    <tr>\n",
              "      <th>50%</th>\n",
              "      <td>262.000000</td>\n",
              "    </tr>\n",
              "    <tr>\n",
              "      <th>75%</th>\n",
              "      <td>1080.000000</td>\n",
              "    </tr>\n",
              "    <tr>\n",
              "      <th>max</th>\n",
              "      <td>39593.061241</td>\n",
              "    </tr>\n",
              "  </tbody>\n",
              "</table>\n",
              "</div><br><label><b>dtype:</b> float64</label>"
            ]
          },
          "metadata": {},
          "execution_count": 20
        }
      ]
    },
    {
      "cell_type": "code",
      "source": [
        "import matplotlib.pyplot as plt\n",
        "import seaborn as sns\n",
        "\n",
        "plt.figure(figsize=(10, 6))\n",
        "sns.histplot(df['price'], bins=50, color='royalblue', edgecolor='black')\n",
        "plt.title('Distribution of Airbnb Listing Prices')\n",
        "plt.xlabel('Price ($)')\n",
        "plt.ylabel('Frequency')\n",
        "plt.grid(axis='y', alpha=0.75)\n",
        "plt.show()\n"
      ],
      "metadata": {
        "colab": {
          "base_uri": "https://localhost:8080/",
          "height": 564
        },
        "id": "Rr1AhGiW9heW",
        "outputId": "8ba242db-cf3b-4104-e6d2-09b7df5251e2"
      },
      "execution_count": null,
      "outputs": [
        {
          "output_type": "display_data",
          "data": {
            "text/plain": [
              "<Figure size 1000x600 with 1 Axes>"
            ],
            "image/png": "[encoded data removed]"
          },
          "metadata": {}
        }
      ]
    },
    {
      "cell_type": "code",
      "source": [
        "# HYPOTHESIS TEST: Are prices normally distributed? (Anderson-Darling)\n",
        "from scipy.stats import anderson\n",
        "\n",
        "print(\"=== PRICE DISTRIBUTION NORMALITY TEST: ANDERSON-DARLING ===\")\n",
        "\n",
        "prices_clean = df['price'].dropna()\n",
        "sample_prices = prices_clean.sample(5000, random_state=42) if len(prices_clean) > 5000 else prices_clean\n",
        "\n",
        "result = anderson(sample_prices, dist='norm')\n",
        "print(f\"Anderson-Darling statistic: {result.statistic:.4f}\")\n",
        "\n",
        "for critical_value, significance in zip(result.critical_values, result.significance_level):\n",
        "    if result.statistic > critical_value:\n",
        "        print(f\"  At {significance:.1f}% significance: Reject null hypothesis (NOT normal)\")\n",
        "    else:\n",
        "        print(f\"  At {significance:.1f}% significance: Cannot reject null hypothesis (Normal)\")\n"
      ],
      "metadata": {
        "colab": {
          "base_uri": "https://localhost:8080/"
        },
        "id": "nj-SniyZ9M4-",
        "outputId": "f1f7a720-d941-4972-f7e2-2270bdf3ccc0"
      },
      "execution_count": null,
      "outputs": [
        {
          "output_type": "stream",
          "name": "stdout",
          "text": [
            "=== PRICE DISTRIBUTION NORMALITY TEST: ANDERSON-DARLING ===\n",
            "Anderson-Darling statistic: 1163.6390\n",
            "  At 15.0% significance: Reject null hypothesis (NOT normal)\n",
            "  At 10.0% significance: Reject null hypothesis (NOT normal)\n",
            "  At 5.0% significance: Reject null hypothesis (NOT normal)\n",
            "  At 2.5% significance: Reject null hypothesis (NOT normal)\n",
            "  At 1.0% significance: Reject null hypothesis (NOT normal)\n"
          ]
        }
      ]
    },
    {
      "cell_type": "markdown",
      "source": [
        "“The price data is NOT normally distributed.”\n",
        "\n",
        "“Anderson-Darling test strongly rejects normality for price (stat=764.06; p<0.01). All subsequent hypothesis tests use non-parametric methods.”\n",
        "\n"
      ],
      "metadata": {
        "id": "ZDPTcKch-8fr"
      }
    },
    {
      "cell_type": "code",
      "source": [
        "#Cap price at 99th percentile for analysis\n",
        "cap = df['price'].quantile(0.99)\n",
        "df['price_capped'] = df['price'].clip(upper=cap)\n"
      ],
      "metadata": {
        "id": "yB5Xz217-tgU"
      },
      "execution_count": null,
      "outputs": []
    },
    {
      "cell_type": "code",
      "source": [
        "from scipy.stats import kruskal\n",
        "city_groups = [group['price'].dropna() for name, group in df.groupby('city')]\n",
        "stat, p = kruskal(*city_groups)\n",
        "print(f\"Kruskal-Wallis p-value for city groups: {p:.4f}\")\n"
      ],
      "metadata": {
        "colab": {
          "base_uri": "https://localhost:8080/"
        },
        "id": "26xpdpLwAb2Y",
        "outputId": "85a258e6-8f2d-42d4-c0e0-3106ba94c6d8"
      },
      "execution_count": null,
      "outputs": [
        {
          "output_type": "stream",
          "name": "stdout",
          "text": [
            "Kruskal-Wallis p-value for city groups: 0.0000\n"
          ]
        }
      ]
    },
    {
      "cell_type": "code",
      "source": [
        "from scipy.stats import mannwhitneyu\n",
        "single = df[df['calculated_host_listings_count'] == 1]['price']\n",
        "multi = df[df['calculated_host_listings_count'] > 1]['price']\n",
        "stat, p = mannwhitneyu(single, multi)\n",
        "print(f\"Mann-Whitney U p-value for host type: {p:.4f}\")"
      ],
      "metadata": {
        "colab": {
          "base_uri": "https://localhost:8080/"
        },
        "id": "Jpsr9oE6AcCD",
        "outputId": "30503f9c-0531-4ebe-91af-a218b4239641"
      },
      "execution_count": null,
      "outputs": [
        {
          "output_type": "stream",
          "name": "stdout",
          "text": [
            "Mann-Whitney U p-value for host type: 0.0000\n"
          ]
        }
      ]
    },
    {
      "cell_type": "code",
      "execution_count": null,
      "metadata": {
        "colab": {
          "base_uri": "https://localhost:8080/"
        },
        "id": "5gqWpeKCBpIx",
        "outputId": "ed4c58b5-f4dc-4c27-997d-51b1b2cc3994"
      },
      "outputs": [
        {
          "output_type": "execute_result",
          "data": {
            "text/plain": [
              "(251451, 14)"
            ]
          },
          "metadata": {},
          "execution_count": 26
        }
      ],
      "source": [
        "df = df[df['minimum_nights'] <= 30]\n",
        "df.shape"
      ]
    },
    {
      "cell_type": "code",
      "execution_count": null,
      "metadata": {
        "colab": {
          "base_uri": "https://localhost:8080/",
          "height": 585
        },
        "id": "22eCFYPYBK9C",
        "outputId": "d505dc9d-6f22-4919-e293-947c1ace2ab3"
      },
      "outputs": [
        {
          "output_type": "execute_result",
          "data": {
            "text/plain": [
              "city\n",
              "Paris         73452\n",
              "Rome          30478\n",
              "Copenhagen    21542\n",
              "Istanbul      16756\n",
              "Athens        15473\n",
              "Vienna        13782\n",
              "Barcelona     11512\n",
              "Oslo          11056\n",
              "Prague        10437\n",
              "Amsterdam     10094\n",
              "Budapest      10005\n",
              "Berlin         8678\n",
              "Dublin         6693\n",
              "Brussels       6320\n",
              "Stockholm      5173\n",
              "Name: count, dtype: int64"
            ],
            "text/html": [
              "<div>\n",
              "<style scoped>\n",
              "    .dataframe tbody tr th:only-of-type {\n",
              "        vertical-align: middle;\n",
              "    }\n",
              "\n",
              "    .dataframe tbody tr th {\n",
              "        vertical-align: top;\n",
              "    }\n",
              "\n",
              "    .dataframe thead th {\n",
              "        text-align: right;\n",
              "    }\n",
              "</style>\n",
              "<table border=\"1\" class=\"dataframe\">\n",
              "  <thead>\n",
              "    <tr style=\"text-align: right;\">\n",
              "      <th></th>\n",
              "      <th>count</th>\n",
              "    </tr>\n",
              "    <tr>\n",
              "      <th>city</th>\n",
              "      <th></th>\n",
              "    </tr>\n",
              "  </thead>\n",
              "  <tbody>\n",
              "    <tr>\n",
              "      <th>Paris</th>\n",
              "      <td>73452</td>\n",
              "    </tr>\n",
              "    <tr>\n",
              "      <th>Rome</th>\n",
              "      <td>30478</td>\n",
              "    </tr>\n",
              "    <tr>\n",
              "      <th>Copenhagen</th>\n",
              "      <td>21542</td>\n",
              "    </tr>\n",
              "    <tr>\n",
              "      <th>Istanbul</th>\n",
              "      <td>16756</td>\n",
              "    </tr>\n",
              "    <tr>\n",
              "      <th>Athens</th>\n",
              "      <td>15473</td>\n",
              "    </tr>\n",
              "    <tr>\n",
              "      <th>Vienna</th>\n",
              "      <td>13782</td>\n",
              "    </tr>\n",
              "    <tr>\n",
              "      <th>Barcelona</th>\n",
              "      <td>11512</td>\n",
              "    </tr>\n",
              "    <tr>\n",
              "      <th>Oslo</th>\n",
              "      <td>11056</td>\n",
              "    </tr>\n",
              "    <tr>\n",
              "      <th>Prague</th>\n",
              "      <td>10437</td>\n",
              "    </tr>\n",
              "    <tr>\n",
              "      <th>Amsterdam</th>\n",
              "      <td>10094</td>\n",
              "    </tr>\n",
              "    <tr>\n",
              "      <th>Budapest</th>\n",
              "      <td>10005</td>\n",
              "    </tr>\n",
              "    <tr>\n",
              "      <th>Berlin</th>\n",
              "      <td>8678</td>\n",
              "    </tr>\n",
              "    <tr>\n",
              "      <th>Dublin</th>\n",
              "      <td>6693</td>\n",
              "    </tr>\n",
              "    <tr>\n",
              "      <th>Brussels</th>\n",
              "      <td>6320</td>\n",
              "    </tr>\n",
              "    <tr>\n",
              "      <th>Stockholm</th>\n",
              "      <td>5173</td>\n",
              "    </tr>\n",
              "  </tbody>\n",
              "</table>\n",
              "</div><br><label><b>dtype:</b> int64</label>"
            ]
          },
          "metadata": {},
          "execution_count": 27
        }
      ],
      "source": [
        "df['city'].value_counts()"
      ]
    },
    {
      "cell_type": "code",
      "execution_count": null,
      "metadata": {
        "colab": {
          "base_uri": "https://localhost:8080/"
        },
        "id": "J2eEcqQd_LjD",
        "outputId": "774370f1-c600-4706-f234-6559c9c8bea3"
      },
      "outputs": [
        {
          "output_type": "execute_result",
          "data": {
            "text/plain": [
              "array(['Paris', 'Rome', 'Amsterdam', 'Berlin', 'Prague', 'Barcelona',\n",
              "       'Budapest', 'Vienna', 'Athens', 'Istanbul', 'Dublin', 'Oslo',\n",
              "       'Stockholm', 'Copenhagen', 'Brussels'], dtype=object)"
            ]
          },
          "metadata": {},
          "execution_count": 28
        }
      ],
      "source": [
        "df['city'].unique()"
      ]
    },
    {
      "cell_type": "code",
      "source": [
        "# HYPOTHESIS TEST 1: City Effects on Price\n",
        "print(\"=== CITY EFFECTS ON PRICE ===\")\n",
        "\n",
        "from scipy.stats import kruskal\n",
        "\n",
        "df_city_price = df[['city', 'price']].dropna()\n",
        "city_groups = [group['price'] for name, group in df_city_price.groupby('city')]\n",
        "\n",
        "# Kruskal-Wallis test (non-parametric ANOVA)\n",
        "stat, p_city = kruskal(*city_groups)\n",
        "CITY_SIGNIFICANT = p_city < 0.05\n",
        "\n",
        "print(f\"Kruskal-Wallis statistic: {stat:.4f}\")\n",
        "print(f\"P-value: {p_city:.2e}\")\n",
        "print(f\"Result: {'SIGNIFICANT' if CITY_SIGNIFICANT else 'NOT SIGNIFICANT'}\")\n",
        "\n",
        "if p_city < 0.05:\n",
        "    print(\"✅ SIGNIFICANT: Cities have different price distributions\")\n",
        "\n",
        "    city_stats = df_city_price.groupby('city')['price'].agg(['count', 'median', 'std']).round(2)\n",
        "    city_stats = city_stats.sort_values('median', ascending=False)\n",
        "    print(\"\\nCity Rankings by Median Price:\")\n",
        "    print(city_stats)\n"
      ],
      "metadata": {
        "colab": {
          "base_uri": "https://localhost:8080/"
        },
        "id": "KsuWi5md_iEy",
        "outputId": "7ca09ae3-8b74-4733-833c-ecc2847f8281"
      },
      "execution_count": null,
      "outputs": [
        {
          "output_type": "stream",
          "name": "stdout",
          "text": [
            "=== CITY EFFECTS ON PRICE ===\n",
            "Kruskal-Wallis statistic: 177912.9280\n",
            "P-value: 0.00e+00\n",
            "Result: SIGNIFICANT\n",
            "✅ SIGNIFICANT: Cities have different price distributions\n",
            "\n",
            "City Rankings by Median Price:\n",
            "            count    median      std\n",
            "city                                \n",
            "Budapest    10005  21381.00  8187.60\n",
            "Istanbul    16756   2547.31  3118.57\n",
            "Prague      10437   2431.00  2595.76\n",
            "Stockholm    5173   1765.00  1320.68\n",
            "Oslo        11056   1380.00  1201.43\n",
            "Copenhagen  21542   1356.95   658.23\n",
            "Amsterdam   10094    305.00   437.28\n",
            "Paris       73452    219.09   583.19\n",
            "Barcelona   11512    184.00   417.46\n",
            "Dublin       6693    144.00   424.46\n",
            "Berlin       8678    125.00   472.82\n",
            "Rome        30478    117.00   380.77\n",
            "Vienna      13782    108.86   568.64\n",
            "Brussels     6320     92.00   162.71\n",
            "Athens      15473     80.00   522.83\n"
          ]
        }
      ]
    },
    {
      "cell_type": "code",
      "execution_count": null,
      "metadata": {
        "colab": {
          "base_uri": "https://localhost:8080/"
        },
        "id": "4nBPi85G8SMn",
        "outputId": "484cdd21-f48a-4744-d590-77e00d280971"
      },
      "outputs": [
        {
          "output_type": "execute_result",
          "data": {
            "text/plain": [
              "array(['Entire home/apt', 'Private room', 'Shared room', 'Hotel room'],\n",
              "      dtype=object)"
            ]
          },
          "metadata": {},
          "execution_count": 30
        }
      ],
      "source": [
        "df['room_type'].unique()"
      ]
    },
    {
      "cell_type": "code",
      "source": [
        "# HYPOTHESIS TEST 2: Room Type Effects on Price\n",
        "print(\"=== ROOM TYPE EFFECTS ON PRICE ===\")\n",
        "\n",
        "df_room = df[['room_type', 'price']].dropna()\n",
        "room_groups = [group['price'] for name, group in df_room.groupby('room_type')]\n",
        "\n",
        "# Kruskal-Wallis test (non-parametric ANOVA)\n",
        "stat, p_room = kruskal(*room_groups)\n",
        "ROOM_TYPE_SIGNIFICANT = p_room < 0.05\n",
        "\n",
        "print(f\"Kruskal-Wallis statistic: {stat:.4f}\")\n",
        "print(f\"P-value: {p_room:.2e}\")\n",
        "print(f\"Result: {'SIGNIFICANT' if ROOM_TYPE_SIGNIFICANT else 'NOT SIGNIFICANT'}\")\n",
        "\n",
        "if p_room < 0.05:\n",
        "    print(\"✅ SIGNIFICANT: Room types have different price distributions\")\n",
        "\n",
        "    room_stats = df_room.groupby('room_type')['price'].agg(['count', 'median', 'std']).round(2)\n",
        "    room_stats = room_stats.sort_values('median', ascending=False)\n",
        "    print(\"\\nRoom Type Rankings by Median Price:\")\n",
        "    print(room_stats)\n"
      ],
      "metadata": {
        "colab": {
          "base_uri": "https://localhost:8080/"
        },
        "id": "zL5kYjRo__of",
        "outputId": "0c5172b1-dcab-4ea1-c6b1-00c232881425"
      },
      "execution_count": null,
      "outputs": [
        {
          "output_type": "stream",
          "name": "stdout",
          "text": [
            "=== ROOM TYPE EFFECTS ON PRICE ===\n",
            "Kruskal-Wallis statistic: 8859.1210\n",
            "P-value: 0.00e+00\n",
            "Result: SIGNIFICANT\n",
            "✅ SIGNIFICANT: Room types have different price distributions\n",
            "\n",
            "Room Type Rankings by Median Price:\n",
            "                  count  median      std\n",
            "room_type                               \n",
            "Hotel room         1522  298.50  2458.77\n",
            "Entire home/apt  206243  289.17  5143.66\n",
            "Private room      42790  124.00  2982.42\n",
            "Shared room         896   65.00  1814.82\n"
          ]
        }
      ]
    },
    {
      "cell_type": "code",
      "source": [
        "# HYPOTHESIS TEST 3: Host Characteristics Impact on Price\n",
        "print(\"=== HOST CHARACTERISTICS IMPACT ON PRICE ===\")\n",
        "\n",
        "\n",
        "single_hosts = df[df['calculated_host_listings_count'] == 1]['price'].dropna()\n",
        "multi_hosts = df[df['calculated_host_listings_count'] > 1]['price'].dropna()\n",
        "\n",
        "# Mann-Whitney U test (non-parametric two-sample test)\n",
        "stat, p_host = mannwhitneyu(single_hosts, multi_hosts, alternative='two-sided')\n",
        "HOST_SIGNIFICANT = p_host < 0.05\n",
        "\n",
        "print(f\"Mann-Whitney U statistic: {stat:.4f}\")\n",
        "print(f\"P-value: {p_host:.2e}\")\n",
        "print(f\"Result: {'SIGNIFICANT' if HOST_SIGNIFICANT else 'NOT SIGNIFICANT'}\")\n",
        "\n",
        "if p_host < 0.05:\n",
        "    print(\"✅ SIGNIFICANT: Host types price differently\")\n",
        "    print(f\"Single-host median price: ${single_hosts.median():.0f}\")\n",
        "    print(f\"Multi-host median price: ${multi_hosts.median():.0f}\")\n"
      ],
      "metadata": {
        "colab": {
          "base_uri": "https://localhost:8080/"
        },
        "id": "woEJSJSDJLUO",
        "outputId": "3b3cc534-de43-4e1d-a3b2-eab0ce226458"
      },
      "execution_count": null,
      "outputs": [
        {
          "output_type": "stream",
          "name": "stdout",
          "text": [
            "=== HOST CHARACTERISTICS IMPACT ON PRICE ===\n",
            "Mann-Whitney U statistic: 7934733132.0000\n",
            "P-value: 4.68e-02\n",
            "Result: SIGNIFICANT\n",
            "✅ SIGNIFICANT: Host types price differently\n",
            "Single-host median price: $289\n",
            "Multi-host median price: $219\n"
          ]
        }
      ]
    },
    {
      "cell_type": "code",
      "source": [
        "# HYPOTHESIS TEST 4: Reviews Impact on Price\n",
        "print(\"=== REVIEWS IMPACT ON PRICE ===\")\n",
        "\n",
        "df_reviews = df[['number_of_reviews', 'price']].dropna()\n",
        "\n",
        "# Spearman correlation (non-parametric correlation)\n",
        "corr, p_reviews = spearmanr(df_reviews['number_of_reviews'], df_reviews['price'])\n",
        "REVIEWS_SIGNIFICANT = p_reviews < 0.05\n",
        "\n",
        "print(f\"Spearman correlation coefficient: {corr:.4f}\")\n",
        "print(f\"P-value: {p_reviews:.2e}\")\n",
        "print(f\"Result: {'SIGNIFICANT' if REVIEWS_SIGNIFICANT else 'NOT SIGNIFICANT'}\")\n",
        "\n",
        "if p_reviews < 0.05:\n",
        "    correlation_direction = \"Positive\" if corr > 0 else \"Negative\"\n",
        "    print(f\"✅ SIGNIFICANT: {correlation_direction} correlation between reviews and price\")\n"
      ],
      "metadata": {
        "colab": {
          "base_uri": "https://localhost:8080/"
        },
        "id": "FOnm5eXUJQRx",
        "outputId": "12833d2e-d6e4-49ef-c701-d7fdfac5f9c8"
      },
      "execution_count": null,
      "outputs": [
        {
          "output_type": "stream",
          "name": "stdout",
          "text": [
            "=== REVIEWS IMPACT ON PRICE ===\n",
            "Spearman correlation coefficient: -0.0811\n",
            "P-value: 0.00e+00\n",
            "Result: SIGNIFICANT\n",
            "✅ SIGNIFICANT: Negative correlation between reviews and price\n"
          ]
        }
      ]
    },
    {
      "cell_type": "code",
      "source": [
        "print(df['neighbourhood'].nunique())\n",
        "print(df['neighbourhood'].value_counts().head())\n"
      ],
      "metadata": {
        "colab": {
          "base_uri": "https://localhost:8080/"
        },
        "id": "V5xVEPNyS0RC",
        "outputId": "9900ec64-6105-4950-f293-4afb5c487bec"
      },
      "execution_count": null,
      "outputs": [
        {
          "output_type": "stream",
          "name": "stdout",
          "text": [
            "505\n",
            "neighbourhood\n",
            "I Centro Storico     15558\n",
            "Buttes-Montmartre     7736\n",
            "Popincourt            6424\n",
            "Vaugirard             5822\n",
            "Beyoglu               5788\n",
            "Name: count, dtype: int64\n"
          ]
        }
      ]
    },
    {
      "cell_type": "code",
      "source": [
        "from scipy.stats import kruskal\n",
        "\n",
        "# List of price values by neighbourhood\n",
        "groups = [group['price'].values for name, group in df.groupby('neighbourhood')]\n",
        "\n",
        "\n",
        "stat, p = kruskal(*groups)\n",
        "NEIGHBOURHOOD_SIGNIFICANT = p_reviews < 0.05\n",
        "\n",
        "print(f\"Kruskal-Wallis H-statistic: {stat:.4f}, p-value: {p:.4g}\")\n",
        "print(f\"Result: {'SIGNIFICANT' if NEIGHBOURHOOD_SIGNIFICANT else 'NOT SIGNIFICANT'}\")\n",
        "\n",
        "if p < 0.05:\n",
        "    print(\"Neighbourhood has a statistically significant effect on price (p < 0.05). Consider keeping it as a feature.\")\n",
        "else:\n",
        "    print(\"No significant effect of neighbourhood on price (p ≥ 0.05). Dropping it is reasonable.\")"
      ],
      "metadata": {
        "colab": {
          "base_uri": "https://localhost:8080/"
        },
        "id": "KZohCO3-S27Q",
        "outputId": "e4a85c91-b153-48a3-da71-44110a057255"
      },
      "execution_count": null,
      "outputs": [
        {
          "output_type": "stream",
          "name": "stdout",
          "text": [
            "Kruskal-Wallis H-statistic: 183880.4011, p-value: 0\n",
            "Result: SIGNIFICANT\n",
            "Neighbourhood has a statistically significant effect on price (p < 0.05). Consider keeping it as a feature.\n"
          ]
        }
      ]
    },
    {
      "cell_type": "code",
      "source": [
        "neigh_freq_map = df['neighbourhood'].value_counts(normalize=True)\n",
        "df['neighbourhood_freq_enc'] = df['neighbourhood'].map(neigh_freq_map)"
      ],
      "metadata": {
        "id": "-3dG5TKLUjUD"
      },
      "execution_count": null,
      "outputs": []
    },
    {
      "cell_type": "markdown",
      "source": [
        "\n",
        "> Frequency encoding allows us to represent complex, high-cardinality categorical variables like neighbourhoods in a numeric and compact form, helping the model capture valuable information about listing location popularity without inflating feature dimensions.\n",
        "\n",
        "\n",
        "> Frequency encoding was chosen over OHE (to avoid sparsity and high dimensionality) and over label encoding (to avoid misleading order and provide meaningful statistical information), making it ideal for your use case with many neighbourhood categories and a tree-based model.\n",
        "\n",
        "\n",
        "\n",
        "\n",
        "\n",
        "\n",
        "\n"
      ],
      "metadata": {
        "id": "694_NeFCPvLn"
      }
    },
    {
      "cell_type": "code",
      "source": [
        "joblib.dump(neigh_freq_map, 'neigh_freq_map.pkl')"
      ],
      "metadata": {
        "colab": {
          "base_uri": "https://localhost:8080/"
        },
        "id": "_KswuL_QWHGQ",
        "outputId": "1dbb788f-7fb7-45c1-f656-884747674f68"
      },
      "execution_count": null,
      "outputs": [
        {
          "output_type": "execute_result",
          "data": {
            "text/plain": [
              "['neigh_freq_map.pkl']"
            ]
          },
          "metadata": {},
          "execution_count": 37
        }
      ]
    },
    {
      "cell_type": "code",
      "execution_count": null,
      "metadata": {
        "colab": {
          "base_uri": "https://localhost:8080/"
        },
        "id": "QVbUGhoY8qKL",
        "outputId": "1cb23648-587a-41cc-c564-b0d15a4febce"
      },
      "outputs": [
        {
          "output_type": "execute_result",
          "data": {
            "text/plain": [
              "array([0, 1, 2, 3])"
            ]
          },
          "metadata": {},
          "execution_count": 38
        }
      ],
      "source": [
        "room_type_map = {'room_type' : {\n",
        "    'Entire home/apt': 0,\n",
        "    'Private room': 1,\n",
        "    'Shared room': 2,\n",
        "    'Hotel room': 3\n",
        "}}\n",
        "df.replace(room_type_map, inplace=True)\n",
        "df['room_type'].unique()"
      ]
    },
    {
      "cell_type": "code",
      "execution_count": null,
      "metadata": {
        "colab": {
          "base_uri": "https://localhost:8080/"
        },
        "id": "su1n_fS4_EuU",
        "outputId": "1449fc86-a145-4a09-b9b8-dd0a488a87b0"
      },
      "outputs": [
        {
          "output_type": "execute_result",
          "data": {
            "text/plain": [
              "array([ 0,  1,  2,  3,  4,  5,  6,  7,  8,  9, 10, 11, 12, 13, 14])"
            ]
          },
          "metadata": {},
          "execution_count": 39
        }
      ],
      "source": [
        "city_label_map = {'city':{\n",
        "    'Paris': 0,\n",
        "    'Rome': 1,\n",
        "    'Amsterdam': 2,\n",
        "    'Berlin': 3,\n",
        "    'Prague': 4,\n",
        "    'Barcelona': 5,\n",
        "    'Budapest': 6,\n",
        "    'Vienna': 7,\n",
        "    'Athens': 8,\n",
        "    'Istanbul': 9,\n",
        "    'Dublin': 10,\n",
        "    'Oslo': 11,\n",
        "    'Stockholm': 12,\n",
        "    'Copenhagen': 13,\n",
        "    'Brussels': 14\n",
        "}}\n",
        "df.replace(city_label_map, inplace=True)\n",
        "df['city'].unique()"
      ]
    },
    {
      "cell_type": "code",
      "execution_count": null,
      "metadata": {
        "id": "tiEzoaswCSEN"
      },
      "outputs": [],
      "source": [
        "df['price'] = df['price'].replace('[\\$,]', '', regex=True).astype(float)"
      ]
    },
    {
      "cell_type": "code",
      "execution_count": null,
      "metadata": {
        "colab": {
          "base_uri": "https://localhost:8080/",
          "height": 895
        },
        "id": "xUvq5N8k1Niu",
        "outputId": "ca2aa69f-dbc3-4d56-f4e6-f81af0b01516"
      },
      "outputs": [
        {
          "output_type": "display_data",
          "data": {
            "text/plain": [
              "<Figure size 1200x800 with 2 Axes>"
            ],
            "image/png": "[encoded data removed]"
          },
          "metadata": {}
        }
      ],
      "source": [
        "plt.figure(figsize=(12, 8))\n",
        "sns.heatmap(df.corr(numeric_only=True), annot=True, cmap='coolwarm', fmt='.2f')\n",
        "plt.title(\"Correlation Between Features\")\n",
        "plt.show()\n"
      ]
    },
    {
      "cell_type": "markdown",
      "source": [
        "#Statistical Insights Summary"
      ],
      "metadata": {
        "id": "ve3M8O-PQPTU"
      }
    },
    {
      "cell_type": "code",
      "source": [
        "# STATISTICAL INSIGHTS SUMMARY\n",
        "print(\"=== STATISTICAL TESTING RESULTS SUMMARY ===\\n\")\n",
        "\n",
        "test_results = [\n",
        "    (\"City Effects on Price\", CITY_SIGNIFICANT),\n",
        "    (\"Room Type Effects on Price\", ROOM_TYPE_SIGNIFICANT),\n",
        "    (\"Reviews Impact on Price\", REVIEWS_SIGNIFICANT),\n",
        "    (\"Host Characteristics Impact on Price\", HOST_SIGNIFICANT),\n",
        "    (\"Neighbourhood Effects on Price\", NEIGHBOURHOOD_SIGNIFICANT)\n",
        "]\n",
        "\n",
        "significant_features = [name for name, significant in test_results if significant]\n",
        "\n",
        "if significant_features:\n",
        "    print(\"✅ Statistically significant features that justify inclusion in the model:\")\n",
        "    for feature in significant_features:\n",
        "        print(f\" - {feature}\")\n",
        "else:\n",
        "    print(\"❌ No statistically significant features detected for modeling at p < 0.05 level.\")\n",
        "\n"
      ],
      "metadata": {
        "colab": {
          "base_uri": "https://localhost:8080/"
        },
        "id": "QGdiOdnTQUz9",
        "outputId": "b92364c7-6087-4eb1-dac1-8d3b28b46379"
      },
      "execution_count": null,
      "outputs": [
        {
          "output_type": "stream",
          "name": "stdout",
          "text": [
            "=== STATISTICAL TESTING RESULTS SUMMARY ===\n",
            "\n",
            "✅ Statistically significant features that justify inclusion in the model:\n",
            " - City Effects on Price\n",
            " - Room Type Effects on Price\n",
            " - Reviews Impact on Price\n",
            " - Host Characteristics Impact on Price\n",
            " - Neighbourhood Effects on Price\n"
          ]
        }
      ]
    },
    {
      "cell_type": "markdown",
      "metadata": {
        "id": "fddRo7ia3ls0"
      },
      "source": [
        "#Splitting the Data"
      ]
    },
    {
      "cell_type": "code",
      "execution_count": null,
      "metadata": {
        "id": "JV0ON9U3F_Lo"
      },
      "outputs": [],
      "source": [
        "#Prepare features and target\n",
        "\n",
        "X = df.drop(['price'], axis=1)\n",
        "y = df['price']"
      ]
    },
    {
      "cell_type": "code",
      "source": [
        "# CHECK FOR POTENTIAL DATA LEAKAGE\n",
        "print(\"=== FEATURE LEAKAGE DETECTION ===\")\n",
        "print(f\"Total features in X: {len(X.columns)}\")\n",
        "print(f\"Target variable shape: {y.shape}\")\n",
        "\n",
        "# Check for price-related column names\n",
        "price_keywords = ['price', 'cost', 'fee', 'total', 'amount', 'revenue', 'income', 'earnings']\n",
        "suspicious_columns = [col for col in X.columns if any(keyword in col.lower() for keyword in price_keywords)]\n",
        "\n",
        "print(f\"\\nSuspicious price-related columns in features:\")\n",
        "if suspicious_columns:\n",
        "    for col in suspicious_columns:\n",
        "        print(f\"  - {col}\")\n",
        "    print(\"\\nPOTENTIAL DATA LEAKAGE DETECTED!\")\n",
        "else:\n",
        "    print(\"  None found - Good!\")\n",
        "\n",
        "# Check for columns with perfect correlation to target\n",
        "print(f\"\\nChecking correlations with target variable...\")\n",
        "correlations = []\n",
        "for col in X.select_dtypes(include=['int64', 'float64']).columns:\n",
        "    try:\n",
        "        corr = X[col].corr(y)\n",
        "        if abs(corr) > 0.95:  # Very high correlation\n",
        "            correlations.append((col, corr))\n",
        "    except:\n",
        "        pass\n",
        "\n",
        "if correlations:\n",
        "    print(\"Features with suspiciously high correlation to price:\")\n",
        "    for col, corr in sorted(correlations, key=lambda x: abs(x[1]), reverse=True):\n",
        "        print(f\"  - {col}: {corr:.4f}\")\n",
        "else:\n",
        "    print(\"  No suspiciously high correlations found\")\n",
        "\n",
        "print(f\"\\nFeature columns: {list(X.columns)}\")\n"
      ],
      "metadata": {
        "colab": {
          "base_uri": "https://localhost:8080/"
        },
        "id": "mXsakpkzVgCT",
        "outputId": "4de363aa-bda2-4a74-e654-bef6d7d20942"
      },
      "execution_count": null,
      "outputs": [
        {
          "output_type": "stream",
          "name": "stdout",
          "text": [
            "=== FEATURE LEAKAGE DETECTION ===\n",
            "Total features in X: 14\n",
            "Target variable shape: (251451,)\n",
            "\n",
            "Suspicious price-related columns in features:\n",
            "  - price_missing\n",
            "  - price_capped\n",
            "\n",
            "POTENTIAL DATA LEAKAGE DETECTED!\n",
            "\n",
            "Checking correlations with target variable...\n",
            "Features with suspiciously high correlation to price:\n",
            "  - price_capped: 0.9895\n",
            "\n",
            "Feature columns: ['neighbourhood', 'latitude', 'longitude', 'room_type', 'minimum_nights', 'number_of_reviews', 'reviews_per_month', 'calculated_host_listings_count', 'availability_365', 'number_of_reviews_ltm', 'city', 'price_missing', 'price_capped', 'neighbourhood_freq_enc']\n"
          ]
        }
      ]
    },
    {
      "cell_type": "code",
      "source": [
        "# PREPARE CLEAN FEATURES AND TARGET (NO DATA LEAKAGE)\n",
        "print(\"=== PREPARING FEATURES AND TARGET ===\")\n",
        "\n",
        "# Remove leaky features completely\n",
        "print(f\"Removing leaky features: {suspicious_columns}\")\n",
        "\n",
        "# Create clean feature set\n",
        "X = df.drop(['price'] + suspicious_columns, axis=1, errors='ignore')\n",
        "y = df['price']\n",
        "\n",
        "# Remove the original 'neighbourhood' column as it has been frequency encoded\n",
        "X = X.drop('neighbourhood', axis=1)\n",
        "\n",
        "# Apply log transform to TARGET only (not as a feature)\n",
        "y_log = np.log(y)\n",
        "\n",
        "print(f\"Clean features shape: {X.shape}\")\n",
        "print(f\"Original target shape: {y.shape}\")\n",
        "print(f\"Log-transformed target shape: {y_log.shape}\")\n",
        "print(f\"Final feature columns: {list(X.columns)}\")"
      ],
      "metadata": {
        "colab": {
          "base_uri": "https://localhost:8080/"
        },
        "id": "ELrVswecYeqT",
        "outputId": "8dd49e41-7118-48bf-a113-906424815571"
      },
      "execution_count": null,
      "outputs": [
        {
          "output_type": "stream",
          "name": "stdout",
          "text": [
            "=== PREPARING FEATURES AND TARGET ===\n",
            "Removing leaky features: ['price_missing', 'price_capped']\n",
            "Clean features shape: (251451, 11)\n",
            "Original target shape: (251451,)\n",
            "Log-transformed target shape: (251451,)\n",
            "Final feature columns: ['latitude', 'longitude', 'room_type', 'minimum_nights', 'number_of_reviews', 'reviews_per_month', 'calculated_host_listings_count', 'availability_365', 'number_of_reviews_ltm', 'city', 'neighbourhood_freq_enc']\n"
          ]
        }
      ]
    },
    {
      "cell_type": "code",
      "execution_count": null,
      "metadata": {
        "id": "R2DeMIYkwCa4"
      },
      "outputs": [],
      "source": [
        "from sklearn.model_selection import train_test_split\n",
        "\n",
        "X_train_raw, X_test_raw, y_train, y_test = train_test_split(X, y_log,\n",
        "                                                           test_size=0.2,\n",
        "                                                           random_state=42)\n",
        "scaler = StandardScaler()\n",
        "X_train = scaler.fit_transform(X_train_raw)\n",
        "X_test  = scaler.transform(X_test_raw)\n"
      ]
    },
    {
      "cell_type": "code",
      "source": [
        "y_train_log = np.log1p(y_train)\n",
        "y_test_log = np.log1p(y_test)"
      ],
      "metadata": {
        "id": "76_r9Xd8YrVS"
      },
      "execution_count": null,
      "outputs": []
    },
    {
      "cell_type": "markdown",
      "metadata": {
        "id": "UQp2tDDf3xLT"
      },
      "source": [
        "#Testing the Models"
      ]
    },
    {
      "cell_type": "code",
      "execution_count": null,
      "metadata": {
        "id": "0cXfRRXywOoi",
        "colab": {
          "base_uri": "https://localhost:8080/",
          "height": 175
        },
        "outputId": "d92b03e8-031b-499e-9f8b-839085fa2e47"
      },
      "outputs": [
        {
          "output_type": "execute_result",
          "data": {
            "text/plain": [
              "                       RMSE        R²\n",
              "Random Forest      0.450645  0.910392\n",
              "LightGbm           0.484195  0.896553\n",
              "Linear Regression  1.202577  0.361880\n",
              "Ridge Regression   1.202578  0.361880"
            ],
            "text/html": [
              "\n",
              "  <div id=\"df-40b16792-321d-426f-8197-01e0311679ae\" class=\"colab-df-container\">\n",
              "    <div>\n",
              "<style scoped>\n",
              "    .dataframe tbody tr th:only-of-type {\n",
              "        vertical-align: middle;\n",
              "    }\n",
              "\n",
              "    .dataframe tbody tr th {\n",
              "        vertical-align: top;\n",
              "    }\n",
              "\n",
              "    .dataframe thead th {\n",
              "        text-align: right;\n",
              "    }\n",
              "</style>\n",
              "<table border=\"1\" class=\"dataframe\">\n",
              "  <thead>\n",
              "    <tr style=\"text-align: right;\">\n",
              "      <th></th>\n",
              "      <th>RMSE</th>\n",
              "      <th>R²</th>\n",
              "    </tr>\n",
              "  </thead>\n",
              "  <tbody>\n",
              "    <tr>\n",
              "      <th>Random Forest</th>\n",
              "      <td>0.450645</td>\n",
              "      <td>0.910392</td>\n",
              "    </tr>\n",
              "    <tr>\n",
              "      <th>LightGbm</th>\n",
              "      <td>0.484195</td>\n",
              "      <td>0.896553</td>\n",
              "    </tr>\n",
              "    <tr>\n",
              "      <th>Linear Regression</th>\n",
              "      <td>1.202577</td>\n",
              "      <td>0.361880</td>\n",
              "    </tr>\n",
              "    <tr>\n",
              "      <th>Ridge Regression</th>\n",
              "      <td>1.202578</td>\n",
              "      <td>0.361880</td>\n",
              "    </tr>\n",
              "  </tbody>\n",
              "</table>\n",
              "</div>\n",
              "    <div class=\"colab-df-buttons\">\n",
              "\n",
              "  <div class=\"colab-df-container\">\n",
              "    <button class=\"colab-df-convert\" onclick=\"convertToInteractive('df-40b16792-321d-426f-8197-01e0311679ae')\"\n",
              "            title=\"Convert this dataframe to an interactive table.\"\n",
              "            style=\"display:none;\">\n",
              "\n",
              "  <svg xmlns=\"http://www.w3.org/2000/svg\" height=\"24px\" viewBox=\"0 -960 960 960\">\n",
              "    <path d=\"M120-120v-720h720v720H120Zm60-500h600v-160H180v160Zm220 220h160v-160H400v160Zm0 220h160v-160H400v160ZM180-400h160v-160H180v160Zm440 0h160v-160H620v160ZM180-180h160v-160H180v160Zm440 0h160v-160H620v160Z\"/>\n",
              "  </svg>\n",
              "    </button>\n",
              "\n",
              "  <style>\n",
              "    .colab-df-container {\n",
              "      display:flex;\n",
              "      gap: 12px;\n",
              "    }\n",
              "\n",
              "    .colab-df-convert {\n",
              "      background-color: #E8F0FE;\n",
              "      border: none;\n",
              "      border-radius: 50%;\n",
              "      cursor: pointer;\n",
              "      display: none;\n",
              "      fill: #1967D2;\n",
              "      height: 32px;\n",
              "      padding: 0 0 0 0;\n",
              "      width: 32px;\n",
              "    }\n",
              "\n",
              "    .colab-df-convert:hover {\n",
              "      background-color: #E2EBFA;\n",
              "      box-shadow: 0px 1px 2px rgba(60, 64, 67, 0.3), 0px 1px 3px 1px rgba(60, 64, 67, 0.15);\n",
              "      fill: #174EA6;\n",
              "    }\n",
              "\n",
              "    .colab-df-buttons div {\n",
              "      margin-bottom: 4px;\n",
              "    }\n",
              "\n",
              "    [theme=dark] .colab-df-convert {\n",
              "      background-color: #3B4455;\n",
              "      fill: #D2E3FC;\n",
              "    }\n",
              "\n",
              "    [theme=dark] .colab-df-convert:hover {\n",
              "      background-color: #434B5C;\n",
              "      box-shadow: 0px 1px 3px 1px rgba(0, 0, 0, 0.15);\n",
              "      filter: drop-shadow(0px 1px 2px rgba(0, 0, 0, 0.3));\n",
              "      fill: #FFFFFF;\n",
              "    }\n",
              "  </style>\n",
              "\n",
              "    <script>\n",
              "      const buttonEl =\n",
              "        document.querySelector('#df-40b16792-321d-426f-8197-01e0311679ae button.colab-df-convert');\n",
              "      buttonEl.style.display =\n",
              "        google.colab.kernel.accessAllowed ? 'block' : 'none';\n",
              "\n",
              "      async function convertToInteractive(key) {\n",
              "        const element = document.querySelector('#df-40b16792-321d-426f-8197-01e0311679ae');\n",
              "        const dataTable =\n",
              "          await google.colab.kernel.invokeFunction('convertToInteractive',\n",
              "                                                    [key], {});\n",
              "        if (!dataTable) return;\n",
              "\n",
              "        const docLinkHtml = 'Like what you see? Visit the ' +\n",
              "          '<a target=\"_blank\" href=https://colab.research.google.com/notebooks/data_table.ipynb>data table notebook</a>'\n",
              "          + ' to learn more about interactive tables.';\n",
              "        element.innerHTML = '';\n",
              "        dataTable['output_type'] = 'display_data';\n",
              "        await google.colab.output.renderOutput(dataTable, element);\n",
              "        const docLink = document.createElement('div');\n",
              "        docLink.innerHTML = docLinkHtml;\n",
              "        element.appendChild(docLink);\n",
              "      }\n",
              "    </script>\n",
              "  </div>\n",
              "\n",
              "\n",
              "    <div id=\"df-baba8774-0ee7-4aa2-b5cc-87655abc7776\">\n",
              "      <button class=\"colab-df-quickchart\" onclick=\"quickchart('df-baba8774-0ee7-4aa2-b5cc-87655abc7776')\"\n",
              "                title=\"Suggest charts\"\n",
              "                style=\"display:none;\">\n",
              "\n",
              "<svg xmlns=\"http://www.w3.org/2000/svg\" height=\"24px\"viewBox=\"0 0 24 24\"\n",
              "     width=\"24px\">\n",
              "    <g>\n",
              "        <path d=\"M19 3H5c-1.1 0-2 .9-2 2v14c0 1.1.9 2 2 2h14c1.1 0 2-.9 2-2V5c0-1.1-.9-2-2-2zM9 17H7v-7h2v7zm4 0h-2V7h2v10zm4 0h-2v-4h2v4z\"/>\n",
              "    </g>\n",
              "</svg>\n",
              "      </button>\n",
              "\n",
              "<style>\n",
              "  .colab-df-quickchart {\n",
              "      --bg-color: #E8F0FE;\n",
              "      --fill-color: #1967D2;\n",
              "      --hover-bg-color: #E2EBFA;\n",
              "      --hover-fill-color: #174EA6;\n",
              "      --disabled-fill-color: #AAA;\n",
              "      --disabled-bg-color: #DDD;\n",
              "  }\n",
              "\n",
              "  [theme=dark] .colab-df-quickchart {\n",
              "      --bg-color: #3B4455;\n",
              "      --fill-color: #D2E3FC;\n",
              "      --hover-bg-color: #434B5C;\n",
              "      --hover-fill-color: #FFFFFF;\n",
              "      --disabled-bg-color: #3B4455;\n",
              "      --disabled-fill-color: #666;\n",
              "  }\n",
              "\n",
              "  .colab-df-quickchart {\n",
              "    background-color: var(--bg-color);\n",
              "    border: none;\n",
              "    border-radius: 50%;\n",
              "    cursor: pointer;\n",
              "    display: none;\n",
              "    fill: var(--fill-color);\n",
              "    height: 32px;\n",
              "    padding: 0;\n",
              "    width: 32px;\n",
              "  }\n",
              "\n",
              "  .colab-df-quickchart:hover {\n",
              "    background-color: var(--hover-bg-color);\n",
              "    box-shadow: 0 1px 2px rgba(60, 64, 67, 0.3), 0 1px 3px 1px rgba(60, 64, 67, 0.15);\n",
              "    fill: var(--button-hover-fill-color);\n",
              "  }\n",
              "\n",
              "  .colab-df-quickchart-complete:disabled,\n",
              "  .colab-df-quickchart-complete:disabled:hover {\n",
              "    background-color: var(--disabled-bg-color);\n",
              "    fill: var(--disabled-fill-color);\n",
              "    box-shadow: none;\n",
              "  }\n",
              "\n",
              "  .colab-df-spinner {\n",
              "    border: 2px solid var(--fill-color);\n",
              "    border-color: transparent;\n",
              "    border-bottom-color: var(--fill-color);\n",
              "    animation:\n",
              "      spin 1s steps(1) infinite;\n",
              "  }\n",
              "\n",
              "  @keyframes spin {\n",
              "    0% {\n",
              "      border-color: transparent;\n",
              "      border-bottom-color: var(--fill-color);\n",
              "      border-left-color: var(--fill-color);\n",
              "    }\n",
              "    20% {\n",
              "      border-color: transparent;\n",
              "      border-left-color: var(--fill-color);\n",
              "      border-top-color: var(--fill-color);\n",
              "    }\n",
              "    30% {\n",
              "      border-color: transparent;\n",
              "      border-left-color: var(--fill-color);\n",
              "      border-top-color: var(--fill-color);\n",
              "      border-right-color: var(--fill-color);\n",
              "    }\n",
              "    40% {\n",
              "      border-color: transparent;\n",
              "      border-right-color: var(--fill-color);\n",
              "      border-top-color: var(--fill-color);\n",
              "    }\n",
              "    60% {\n",
              "      border-color: transparent;\n",
              "      border-right-color: var(--fill-color);\n",
              "    }\n",
              "    80% {\n",
              "      border-color: transparent;\n",
              "      border-right-color: var(--fill-color);\n",
              "      border-bottom-color: var(--fill-color);\n",
              "    }\n",
              "    90% {\n",
              "      border-color: transparent;\n",
              "      border-bottom-color: var(--fill-color);\n",
              "    }\n",
              "  }\n",
              "</style>\n",
              "\n",
              "      <script>\n",
              "        async function quickchart(key) {\n",
              "          const quickchartButtonEl =\n",
              "            document.querySelector('#' + key + ' button');\n",
              "          quickchartButtonEl.disabled = true;  // To prevent multiple clicks.\n",
              "          quickchartButtonEl.classList.add('colab-df-spinner');\n",
              "          try {\n",
              "            const charts = await google.colab.kernel.invokeFunction(\n",
              "                'suggestCharts', [key], {});\n",
              "          } catch (error) {\n",
              "            console.error('Error during call to suggestCharts:', error);\n",
              "          }\n",
              "          quickchartButtonEl.classList.remove('colab-df-spinner');\n",
              "          quickchartButtonEl.classList.add('colab-df-quickchart-complete');\n",
              "        }\n",
              "        (() => {\n",
              "          let quickchartButtonEl =\n",
              "            document.querySelector('#df-baba8774-0ee7-4aa2-b5cc-87655abc7776 button');\n",
              "          quickchartButtonEl.style.display =\n",
              "            google.colab.kernel.accessAllowed ? 'block' : 'none';\n",
              "        })();\n",
              "      </script>\n",
              "    </div>\n",
              "\n",
              "    </div>\n",
              "  </div>\n"
            ],
            "application/vnd.google.colaboratory.intrinsic+json": {
              "type": "dataframe",
              "summary": "{\n  \"name\": \"pd\",\n  \"rows\": 4,\n  \"fields\": [\n    {\n      \"column\": \"RMSE\",\n      \"properties\": {\n        \"dtype\": \"number\",\n        \"std\": 0.4246641711936732,\n        \"min\": 0.4506448576506036,\n        \"max\": 1.2025776392425431,\n        \"num_unique_values\": 4,\n        \"samples\": [\n          0.48419533371082923,\n          1.2025776392425431,\n          0.4506448576506036\n        ],\n        \"semantic_type\": \"\",\n        \"description\": \"\"\n      }\n    },\n    {\n      \"column\": \"R\\u00b2\",\n      \"properties\": {\n        \"dtype\": \"number\",\n        \"std\": 0.31273979184071904,\n        \"min\": 0.3618795555090716,\n        \"max\": 0.9103923166086052,\n        \"num_unique_values\": 4,\n        \"samples\": [\n          0.8965530692137139,\n          0.3618795555090716,\n          0.9103923166086052\n        ],\n        \"semantic_type\": \"\",\n        \"description\": \"\"\n      }\n    }\n  ]\n}"
            }
          },
          "metadata": {},
          "execution_count": 48
        }
      ],
      "source": [
        "from sklearn.linear_model import LinearRegression, Ridge\n",
        "from sklearn.ensemble import RandomForestRegressor\n",
        "from lightgbm import LGBMRegressor\n",
        "from sklearn.metrics import mean_squared_error, r2_score\n",
        "\n",
        "# Define models\n",
        "models = {\n",
        "    \"Linear Regression\": LinearRegression(),\n",
        "    \"Ridge Regression\": Ridge(),\n",
        "    \"Random Forest\": RandomForestRegressor(n_estimators=100, random_state=42),\n",
        "    \"LightGbm\": LGBMRegressor(n_estimators=100,random_state=42,verbose=-1)\n",
        "}\n",
        "\n",
        "# Train and evaluate\n",
        "results = {}\n",
        "model_scores={'Model':[],'RMSE':[],'R²':[]}\n",
        "\n",
        "for name, model in models.items():\n",
        "    model.fit(X_train, y_train_log)\n",
        "    y_pred_log = model.predict(X_test)\n",
        "    y_pred = np.expm1(y_pred_log)   # <-- THIS LINE IS ESSENTIAL\n",
        "    rmse = np.sqrt(mean_squared_error(np.expm1(y_test_log), y_pred))\n",
        "    r2 = r2_score(np.expm1(y_test_log), y_pred)\n",
        "    results[name] = {\"RMSE\": rmse, \"R²\": r2}\n",
        "    model_scores['Model'].append(name)\n",
        "    model_scores['RMSE'].append(rmse)\n",
        "    model_scores['R²'].append(r2)\n",
        "\n",
        "\n",
        "\n",
        "# Show results\n",
        "pd.DataFrame(results).T.sort_values(by=\"RMSE\")\n"
      ]
    },
    {
      "cell_type": "code",
      "execution_count": null,
      "metadata": {
        "id": "K52mC9p3E_8b",
        "colab": {
          "base_uri": "https://localhost:8080/",
          "height": 803
        },
        "outputId": "b54c23d5-0a0d-496e-8d6c-bbca7e6142fb"
      },
      "outputs": [
        {
          "output_type": "display_data",
          "data": {
            "text/plain": [
              "<Figure size 800x400 with 1 Axes>"
            ],
            "image/png": "[encoded data removed]"
          },
          "metadata": {}
        },
        {
          "output_type": "display_data",
          "data": {
            "text/plain": [
              "<Figure size 800x400 with 1 Axes>"
            ],
            "image/png": "[encoded data removed]"
          },
          "metadata": {}
        }
      ],
      "source": [
        "import seaborn as sns\n",
        "import matplotlib.pyplot as plt\n",
        "\n",
        "df_scores = pd.DataFrame(model_scores)\n",
        "\n",
        "# Bar plot for RMSE\n",
        "plt.figure(figsize=(8,4))\n",
        "sns.barplot(x='Model', y='RMSE', data=df_scores, palette='coolwarm')\n",
        "plt.title('Model RMSE Comparison')\n",
        "plt.show()\n",
        "\n",
        "# Bar plot for R²\n",
        "plt.figure(figsize=(8,4))\n",
        "sns.barplot(x='Model', y='R²', data=df_scores, palette='crest')\n",
        "plt.title('Model R² Score Comparison')\n",
        "plt.show()\n"
      ]
    },
    {
      "cell_type": "markdown",
      "source": [
        "## Log-Transform Workflow\n",
        "\n",
        "1. **Original price is kept for exploration and reporting.**\n",
        "2. **Train-Test Split is performed on the original price.**\n",
        "3. **Target is log-transformed (y_train_log = np.log1p(y_train)) only after splitting, for modeling.**\n",
        "4. **After prediction, log-transformed predictions are converted back to euros (y_pred = np.expm1(y_pred_log)).**\n",
        "5. **All metrics, plots, and business interpretations are performed on the euros scale, not log scale.**"
      ],
      "metadata": {
        "id": "LqX28uwpojJB"
      }
    },
    {
      "cell_type": "markdown",
      "metadata": {
        "id": "OphAS-5o38B_"
      },
      "source": [
        "#Model Training with LightGBM"
      ]
    },
    {
      "cell_type": "markdown",
      "metadata": {
        "id": "CuRU1rFcSR-q"
      },
      "source": [
        "Based on model evaluation, the Random Forest Regressor achieved the best overall performance with the lowest RMSE and highest R² score, making it the most suitable model for predicting Airbnb prices.\n",
        "\n",
        "However, I also explored LightGBM due to its ability to handle large datasets efficiently. LightGBM offers faster training, better scalability, and advanced boosting techniques that often yield high accuracy. It also natively handles missing values and categorical features, making it a strong alternative for production deployment.\n",
        "\n",
        "Linear and Ridge Regression, on the other hand, performed poorly (R² ≈ 0.10), indicating that they failed to capture the complex, non-linear relationships present in the data—making them unsuitable for this task."
      ]
    },
    {
      "cell_type": "code",
      "source": [
        "from lightgbm import LGBMRegressor\n",
        "\n",
        "model = LGBMRegressor(\n",
        "    n_estimators=100,\n",
        "    random_state=42,\n",
        "    verbose=-1\n",
        ")\n",
        "\n",
        "model.fit(X_train, y_train_log)\n",
        "y_pred_log = model.predict(X_test)  # Predictions are in log scale\n",
        "y_pred = np.expm1(y_pred_log)  # Convert to original price scale\n",
        "\n",
        "# Evaluation - both on original price scale\n",
        "rmse = np.sqrt(mean_squared_error(np.expm1(y_test_log), y_pred))\n",
        "r2 = r2_score(np.expm1(y_test_log), y_pred)\n",
        "\n",
        "\n",
        "print(f\"RMSE: {rmse}\")\n",
        "print(f\"R² Score: {r2}\")\n"
      ],
      "metadata": {
        "colab": {
          "base_uri": "https://localhost:8080/"
        },
        "id": "e0g_oTBRZKqc",
        "outputId": "6cd36a7a-51c0-4d36-dc16-dc499b5126e6"
      },
      "execution_count": null,
      "outputs": [
        {
          "output_type": "stream",
          "name": "stdout",
          "text": [
            "RMSE: 0.48419533371082923\n",
            "R² Score: 0.8965530692137139\n"
          ]
        }
      ]
    },
    {
      "cell_type": "markdown",
      "source": [
        "##Hyperparameter Tuning\n",
        "####Why Hyperparameter Tuning?\n",
        "Hyperparameter tuning is the process of finding the best settings for a machine learning model to maximize its performance. In this project, tuning helps improve prediction accuracy, prevent overfitting, and make the model more efficient. We use RandomizedSearchCV to test different combinations of hyperparameters for our LightGBM model, selecting the set that provides the lowest prediction error and highest R² score for Airbnb price prediction."
      ],
      "metadata": {
        "id": "NHUdywyBRE1p"
      }
    },
    {
      "cell_type": "code",
      "source": [
        "from sklearn.model_selection import RandomizedSearchCV\n",
        "\n",
        "param_grid = {\n",
        "    'num_leaves': [31, 50, 70],\n",
        "    'max_depth': [-1, 10, 20],\n",
        "    'learning_rate': [0.01, 0.05, 0.1],\n",
        "    'n_estimators': [100, 200, 500],\n",
        "    'min_child_samples': [20, 40]\n",
        "}\n",
        "\n",
        "lgbm_rs = LGBMRegressor(n_estimators=100,random_state=42,verbose=-1)\n",
        "\n",
        "random_search_lgbm = RandomizedSearchCV(\n",
        "    estimator=lgbm_rs,\n",
        "    param_distributions=param_grid,\n",
        "    n_iter=30,\n",
        "    scoring='neg_mean_squared_error',\n",
        "    cv=5,\n",
        "    verbose=1,\n",
        "    n_jobs=-1\n",
        ")\n",
        "\n",
        "random_search_lgbm.fit(X_train, y_train_log)\n",
        "best_lgbm = random_search_lgbm.best_estimator_\n",
        "\n",
        "\n",
        "\n",
        "# Save model and scaler\n",
        "import joblib\n",
        "joblib.dump(best_lgbm, 'lightgbm_airbnb_model.pkl')\n",
        "joblib.dump(scaler, 'feature_scaler.pkl')\n"
      ],
      "metadata": {
        "colab": {
          "base_uri": "https://localhost:8080/"
        },
        "id": "7tBWoDwJVNQn",
        "outputId": "1c0c7b00-ce6a-411e-fef5-f28f6934570d"
      },
      "execution_count": null,
      "outputs": [
        {
          "output_type": "stream",
          "name": "stdout",
          "text": [
            "Fitting 5 folds for each of 30 candidates, totalling 150 fits\n"
          ]
        },
        {
          "output_type": "execute_result",
          "data": {
            "text/plain": [
              "['feature_scaler.pkl']"
            ]
          },
          "metadata": {},
          "execution_count": 51
        }
      ]
    },
    {
      "cell_type": "code",
      "source": [
        "# Predict with best model\n",
        "y_pred_best_lgbm_log = best_lgbm.predict(X_test)\n",
        "y_pred_best_lgbm = np.expm1(y_pred_best_lgbm_log)\n",
        "rmse_best = np.sqrt(mean_squared_error(np.expm1(y_test_log), y_pred_best_lgbm))\n",
        "r2_best = r2_score(np.expm1(y_test_log), y_pred_best_lgbm)\n",
        "print(f\"Best LightGBM RMSE: {rmse_best}\")\n",
        "print(f\"Best LightGBM R²: {r2_best}\")"
      ],
      "metadata": {
        "colab": {
          "base_uri": "https://localhost:8080/"
        },
        "id": "kPF_m5IUq1Io",
        "outputId": "e2e9397d-e907-4b4f-bb2e-aeba25b4334b"
      },
      "execution_count": null,
      "outputs": [
        {
          "output_type": "stream",
          "name": "stdout",
          "text": [
            "Best LightGBM RMSE: 0.4548649377577456\n",
            "Best LightGBM R²: 0.9087061897045876\n"
          ]
        }
      ]
    },
    {
      "cell_type": "code",
      "source": [
        "import matplotlib.pyplot as plt\n",
        "import seaborn as sns\n",
        "\n",
        "feature_importance = pd.Series(best_lgbm.feature_importances_, index=X.columns).sort_values(ascending=False)\n",
        "\n",
        "plt.figure(figsize=(10, 6))\n",
        "sns.barplot(x=feature_importance[:15], y=feature_importance.index[:15])\n",
        "plt.title(\"Top 15 LightGBM Feature Importances\")\n",
        "plt.tight_layout()\n",
        "plt.show()"
      ],
      "metadata": {
        "colab": {
          "base_uri": "https://localhost:8080/",
          "height": 607
        },
        "id": "Nm_OyXGCVUqP",
        "outputId": "b2b00d9c-5e61-4658-d381-466f1389b3fd"
      },
      "execution_count": null,
      "outputs": [
        {
          "output_type": "display_data",
          "data": {
            "text/plain": [
              "<Figure size 1000x600 with 1 Axes>"
            ],
            "image/png": "[encoded data removed]"
          },
          "metadata": {}
        }
      ]
    },
    {
      "cell_type": "markdown",
      "source": [
        "###Final Evaluation"
      ],
      "metadata": {
        "id": "ewP8hKQNQ-5B"
      }
    },
    {
      "cell_type": "code",
      "execution_count": null,
      "metadata": {
        "colab": {
          "base_uri": "https://localhost:8080/"
        },
        "id": "eVqPrp28eU_d",
        "outputId": "cd1c7388-c4e1-4516-8ce6-b2d4ed454747"
      },
      "outputs": [
        {
          "output_type": "stream",
          "name": "stdout",
          "text": [
            "RMSE: 0.45\n",
            "R² Score: 0.9087\n"
          ]
        }
      ],
      "source": [
        "from sklearn.metrics import mean_squared_error, r2_score\n",
        "import numpy as np\n",
        "\n",
        "y_pred_log = random_search_lgbm.best_estimator_.predict(X_test)\n",
        "y_pred = np.expm1(y_pred_log)\n",
        "rmse = np.sqrt(mean_squared_error(np.expm1(y_test_log), y_pred))  # FIXED!\n",
        "r2 = r2_score(np.expm1(y_test_log), y_pred)  # FIXED!\n",
        "\n",
        "\n",
        "print(f\"RMSE: {rmse:.2f}\")\n",
        "print(f\"R² Score: {r2:.4f}\")"
      ]
    },
    {
      "cell_type": "code",
      "source": [
        "import matplotlib.pyplot as plt\n",
        "import numpy as np\n",
        "from sklearn.metrics import mean_squared_error, r2_score\n",
        "\n",
        "# Back-transform to original price scale\n",
        "y_test_original = np.expm1(y_test_log)\n",
        "y_pred_original = np.expm1(y_pred_log)\n",
        "\n",
        "# Clamp extreme values for both actual & predicted to avoid plot distortion\n",
        "limit = np.percentile(y_test_original, 99)\n",
        "y_test_original = np.clip(y_test_original, 0, limit)\n",
        "y_pred_original = np.clip(y_pred_original, 0, limit)\n",
        "\n",
        "# Calculate metrics\n",
        "rmse = np.sqrt(mean_squared_error(y_test_original, y_pred_original))\n",
        "r2 = r2_score(y_test_original, y_pred_original)\n",
        "\n",
        "# Calculate absolute errors for coloring\n",
        "errors = np.abs(y_test_original - y_pred_original)\n",
        "# These errors are used as the color scale in the scatter plot, making it easy to see where the model predicts well (dark blue) vs poorly (yellow).\n",
        "\n",
        "# Plot\n",
        "plt.figure(figsize=(8, 6))\n",
        "scatter = plt.scatter(\n",
        "    y_test_original, y_pred_original,\n",
        "    c=errors, cmap='viridis', alpha=0.5, s=20, edgecolor='none'\n",
        ")\n",
        "\n",
        "# Colorbar for error scale\n",
        "cbar = plt.colorbar(scatter)\n",
        "cbar.set_label('Absolute Error')\n",
        "\n",
        "# Perfect prediction line\n",
        "plt.plot(\n",
        "    [y_test_original.min(), y_test_original.max()],\n",
        "    [y_test_original.min(), y_test_original.max()],\n",
        "    'r--', lw=2\n",
        ")\n",
        "\n",
        "# Labels & title\n",
        "plt.xlabel(\"Actual Price\")\n",
        "plt.ylabel(\"Predicted Price\")\n",
        "plt.title(\"Actual vs Predicted Price (LightGBM)\")\n",
        "\n",
        "# Annotate RMSE & R² inside plot\n",
        "plt.text(\n",
        "    0.05, 0.95, f\"RMSE={rmse:.2f}\\nR²={r2:.3f}\",\n",
        "    transform=plt.gca().transAxes,\n",
        "    fontsize=12, verticalalignment='top',\n",
        "    bbox=dict(facecolor='white', alpha=0.6, edgecolor='none')\n",
        ")\n",
        "\n",
        "plt.grid(True, linestyle='--', alpha=0.7)\n",
        "plt.axis('equal')  # Match scaling of axes\n",
        "plt.tight_layout()\n",
        "plt.show()\n"
      ],
      "metadata": {
        "colab": {
          "base_uri": "https://localhost:8080/",
          "height": 607
        },
        "id": "lkruGlCy5Sdt",
        "outputId": "f21d4d04-c309-4348-c341-4f52de4b7aef"
      },
      "execution_count": null,
      "outputs": [
        {
          "output_type": "display_data",
          "data": {
            "text/plain": [
              "<Figure size 800x600 with 2 Axes>"
            ],
            "image/png": "[encoded data removed]"
          },
          "metadata": {}
        }
      ]
    },
    {
      "cell_type": "markdown",
      "source": [
        "**Why this plot is useful?**\n",
        "\n",
        "- It provides a visual check on model performance.\n",
        "- The color scale highlights which price ranges or listings the model struggles with.\n",
        "- It complements numeric metrics like RMSE and R², helping detect patterns\n",
        "  such as underestimation of high prices or overestimation of low prices."
      ],
      "metadata": {
        "id": "8orK42AX513O"
      }
    },
    {
      "cell_type": "code",
      "source": [
        "# STATISTICAL VALIDATION OF LIGHTGBM PERFORMANCE\n",
        "print(f\"WHY LIGHTGBM ACHIEVES R²≈{r2:.2f}\")\n",
        "print(\"• Prices are highly non-normal and skewed (Anderson-Darling p<0.01)\")\n",
        "print(\"• Non-parametric tests confirm:\")\n",
        "print(\"  – City differences (p<0.01)\")\n",
        "print(\"  – Room type differences (p<0.01)\")\n",
        "print(\"  – Host characteristics effects (p<0.05)\")\n",
        "print(\"• Spearman correlation shows reviews mildly predict price (p<0.05)\")\n",
        "print(\"\\nLightGBM’s tree-based splits excel at capturing these non-linear, categorical, and skewed relationships.\")\n",
        "print(f\"Your model’s R²≈{r2:.2f} validates these statistically significant feature impacts.\")\n"
      ],
      "metadata": {
        "id": "BipsyxwHJwLQ",
        "colab": {
          "base_uri": "https://localhost:8080/"
        },
        "outputId": "539757c6-6dfa-4449-de9f-c461e2927f2b"
      },
      "execution_count": null,
      "outputs": [
        {
          "output_type": "stream",
          "name": "stdout",
          "text": [
            "WHY LIGHTGBM ACHIEVES R²≈0.91\n",
            "• Prices are highly non-normal and skewed (Anderson-Darling p<0.01)\n",
            "• Non-parametric tests confirm:\n",
            "  – City differences (p<0.01)\n",
            "  – Room type differences (p<0.01)\n",
            "  – Host characteristics effects (p<0.05)\n",
            "• Spearman correlation shows reviews mildly predict price (p<0.05)\n",
            "\n",
            "LightGBM’s tree-based splits excel at capturing these non-linear, categorical, and skewed relationships.\n",
            "Your model’s R²≈0.91 validates these statistically significant feature impacts.\n"
          ]
        }
      ]
    },
    {
      "cell_type": "markdown",
      "metadata": {
        "id": "GwpIJ4DVFf3I"
      },
      "source": [
        "Scatter Plot helps assess if the model is systematically under- or over-predicting.\n",
        "\n",
        "If your predictions are perfect, points would lie on the red diagonal line.\n",
        "\n",
        "The more scattered the points, the lower the model's accuracy."
      ]
    },
    {
      "cell_type": "code",
      "execution_count": null,
      "metadata": {
        "id": "Ei-JZRhUFLDY"
      },
      "outputs": [],
      "source": [
        "import folium\n",
        "\n",
        "# Center the map\n",
        "map = folium.Map(location=[df.latitude.mean(), df.longitude.mean()], zoom_start=12)\n",
        "\n",
        "for _, row in df.sample(500).iterrows():  # sample for performance\n",
        "    folium.CircleMarker(\n",
        "        location=[row.latitude, row.longitude],\n",
        "        radius=3,\n",
        "        color='blue',\n",
        "        fill=True,\n",
        "        fill_opacity=0.6,\n",
        "        popup=f\"${row.price}\"\n",
        "    ).add_to(map)\n",
        "\n",
        "map.save(\"price_map.html\")\n"
      ]
    },
    {
      "cell_type": "code",
      "source": [
        "print(\"Training features:\", list(X.columns))\n",
        "print(\"Scaler feature names:\", scaler.feature_names_in_)\n"
      ],
      "metadata": {
        "colab": {
          "base_uri": "https://localhost:8080/"
        },
        "id": "OUfZRQDssNHU",
        "outputId": "3081394b-7735-4864-a1ef-ad25237f8d07"
      },
      "execution_count": null,
      "outputs": [
        {
          "output_type": "stream",
          "name": "stdout",
          "text": [
            "Training features: ['latitude', 'longitude', 'room_type', 'minimum_nights', 'number_of_reviews', 'reviews_per_month', 'calculated_host_listings_count', 'availability_365', 'number_of_reviews_ltm', 'city', 'neighbourhood_freq_enc']\n",
            "Scaler feature names: ['latitude' 'longitude' 'room_type' 'minimum_nights' 'number_of_reviews'\n",
            " 'reviews_per_month' 'calculated_host_listings_count' 'availability_365'\n",
            " 'number_of_reviews_ltm' 'city' 'neighbourhood_freq_enc']\n"
          ]
        }
      ]
    },
    {
      "cell_type": "markdown",
      "metadata": {
        "id": "lQmIbgUUUTJC"
      },
      "source": [
        "This project aims to predict Airbnb listing prices using machine learning. We trained multiple regression models (including Random Forest and LightGBM) on cleaned listing data, using features such as location, room type, and review metrics. Price was used as the target variable, and models were evaluated using RMSE and R² metrics to ensure accuracy"
      ]
    }
  ],
  "metadata": {
    "colab": {
      "provenance": []
    },
    "kernelspec": {
      "display_name": "Python 3",
      "name": "python3"
    },
    "language_info": {
      "name": "python"
    }
  },
  "nbformat": 4,
  "nbformat_minor": 0
}